{
 "cells": [
  {
   "cell_type": "markdown",
   "metadata": {},
   "source": [
    "# Exercise 1\n",
    "In the lab, a classification tree was applied to the “Carseats” data set after converting “Sales” into a qualitative response variable. Now we will seek to predict “Sales” using regression trees and related approaches, treating the response as a quantitative variable."
   ]
  },
  {
   "cell_type": "code",
   "execution_count": 1,
   "metadata": {},
   "outputs": [
    {
     "data": {
      "text/html": [
       "<table>\n",
       "<caption>A data.frame: 6 × 11</caption>\n",
       "<thead>\n",
       "\t<tr><th></th><th scope=col>Sales</th><th scope=col>CompPrice</th><th scope=col>Income</th><th scope=col>Advertising</th><th scope=col>Population</th><th scope=col>Price</th><th scope=col>ShelveLoc</th><th scope=col>Age</th><th scope=col>Education</th><th scope=col>Urban</th><th scope=col>US</th></tr>\n",
       "\t<tr><th></th><th scope=col>&lt;dbl&gt;</th><th scope=col>&lt;dbl&gt;</th><th scope=col>&lt;dbl&gt;</th><th scope=col>&lt;dbl&gt;</th><th scope=col>&lt;dbl&gt;</th><th scope=col>&lt;dbl&gt;</th><th scope=col>&lt;fct&gt;</th><th scope=col>&lt;dbl&gt;</th><th scope=col>&lt;dbl&gt;</th><th scope=col>&lt;fct&gt;</th><th scope=col>&lt;fct&gt;</th></tr>\n",
       "</thead>\n",
       "<tbody>\n",
       "\t<tr><th scope=row>1</th><td> 9.50</td><td>138</td><td> 73</td><td>11</td><td>276</td><td>120</td><td>Bad   </td><td>42</td><td>17</td><td>Yes</td><td>Yes</td></tr>\n",
       "\t<tr><th scope=row>2</th><td>11.22</td><td>111</td><td> 48</td><td>16</td><td>260</td><td> 83</td><td>Good  </td><td>65</td><td>10</td><td>Yes</td><td>Yes</td></tr>\n",
       "\t<tr><th scope=row>3</th><td>10.06</td><td>113</td><td> 35</td><td>10</td><td>269</td><td> 80</td><td>Medium</td><td>59</td><td>12</td><td>Yes</td><td>Yes</td></tr>\n",
       "\t<tr><th scope=row>4</th><td> 7.40</td><td>117</td><td>100</td><td> 4</td><td>466</td><td> 97</td><td>Medium</td><td>55</td><td>14</td><td>Yes</td><td>Yes</td></tr>\n",
       "\t<tr><th scope=row>5</th><td> 4.15</td><td>141</td><td> 64</td><td> 3</td><td>340</td><td>128</td><td>Bad   </td><td>38</td><td>13</td><td>Yes</td><td>No </td></tr>\n",
       "\t<tr><th scope=row>6</th><td>10.81</td><td>124</td><td>113</td><td>13</td><td>501</td><td> 72</td><td>Bad   </td><td>78</td><td>16</td><td>No </td><td>Yes</td></tr>\n",
       "</tbody>\n",
       "</table>\n"
      ],
      "text/latex": [
       "A data.frame: 6 × 11\n",
       "\\begin{tabular}{r|lllllllllll}\n",
       "  & Sales & CompPrice & Income & Advertising & Population & Price & ShelveLoc & Age & Education & Urban & US\\\\\n",
       "  & <dbl> & <dbl> & <dbl> & <dbl> & <dbl> & <dbl> & <fct> & <dbl> & <dbl> & <fct> & <fct>\\\\\n",
       "\\hline\n",
       "\t1 &  9.50 & 138 &  73 & 11 & 276 & 120 & Bad    & 42 & 17 & Yes & Yes\\\\\n",
       "\t2 & 11.22 & 111 &  48 & 16 & 260 &  83 & Good   & 65 & 10 & Yes & Yes\\\\\n",
       "\t3 & 10.06 & 113 &  35 & 10 & 269 &  80 & Medium & 59 & 12 & Yes & Yes\\\\\n",
       "\t4 &  7.40 & 117 & 100 &  4 & 466 &  97 & Medium & 55 & 14 & Yes & Yes\\\\\n",
       "\t5 &  4.15 & 141 &  64 &  3 & 340 & 128 & Bad    & 38 & 13 & Yes & No \\\\\n",
       "\t6 & 10.81 & 124 & 113 & 13 & 501 &  72 & Bad    & 78 & 16 & No  & Yes\\\\\n",
       "\\end{tabular}\n"
      ],
      "text/markdown": [
       "\n",
       "A data.frame: 6 × 11\n",
       "\n",
       "| <!--/--> | Sales &lt;dbl&gt; | CompPrice &lt;dbl&gt; | Income &lt;dbl&gt; | Advertising &lt;dbl&gt; | Population &lt;dbl&gt; | Price &lt;dbl&gt; | ShelveLoc &lt;fct&gt; | Age &lt;dbl&gt; | Education &lt;dbl&gt; | Urban &lt;fct&gt; | US &lt;fct&gt; |\n",
       "|---|---|---|---|---|---|---|---|---|---|---|---|\n",
       "| 1 |  9.50 | 138 |  73 | 11 | 276 | 120 | Bad    | 42 | 17 | Yes | Yes |\n",
       "| 2 | 11.22 | 111 |  48 | 16 | 260 |  83 | Good   | 65 | 10 | Yes | Yes |\n",
       "| 3 | 10.06 | 113 |  35 | 10 | 269 |  80 | Medium | 59 | 12 | Yes | Yes |\n",
       "| 4 |  7.40 | 117 | 100 |  4 | 466 |  97 | Medium | 55 | 14 | Yes | Yes |\n",
       "| 5 |  4.15 | 141 |  64 |  3 | 340 | 128 | Bad    | 38 | 13 | Yes | No  |\n",
       "| 6 | 10.81 | 124 | 113 | 13 | 501 |  72 | Bad    | 78 | 16 | No  | Yes |\n",
       "\n"
      ],
      "text/plain": [
       "  Sales CompPrice Income Advertising Population Price ShelveLoc Age Education\n",
       "1  9.50 138        73    11          276        120   Bad       42  17       \n",
       "2 11.22 111        48    16          260         83   Good      65  10       \n",
       "3 10.06 113        35    10          269         80   Medium    59  12       \n",
       "4  7.40 117       100     4          466         97   Medium    55  14       \n",
       "5  4.15 141        64     3          340        128   Bad       38  13       \n",
       "6 10.81 124       113    13          501         72   Bad       78  16       \n",
       "  Urban US \n",
       "1 Yes   Yes\n",
       "2 Yes   Yes\n",
       "3 Yes   Yes\n",
       "4 Yes   Yes\n",
       "5 Yes   No \n",
       "6 No    Yes"
      ]
     },
     "metadata": {},
     "output_type": "display_data"
    }
   ],
   "source": [
    "library('ISLR')\n",
    "set.seed(1998)\n",
    "head(Carseats)"
   ]
  },
  {
   "cell_type": "markdown",
   "metadata": {},
   "source": [
    "## Task (a)\n",
    "Split the data set into a training set and a test set."
   ]
  },
  {
   "cell_type": "code",
   "execution_count": 2,
   "metadata": {},
   "outputs": [
    {
     "name": "stdout",
     "output_type": "stream",
     "text": [
      "[1] 400  11\n",
      "[1] 200  11\n",
      "[1] 200  11\n"
     ]
    }
   ],
   "source": [
    "train_idx = sample(1 : nrow(Carseats), nrow(Carseats)/2)\n",
    "train = Carseats[train_idx,]\n",
    "test = Carseats[-train_idx,]\n",
    "\n",
    "print(dim(Carseats))\n",
    "print(dim(train))\n",
    "print(dim(test))"
   ]
  },
  {
   "cell_type": "markdown",
   "metadata": {},
   "source": [
    "## Task (b)\n",
    "- Fit a regression tree to the training set. Plot the tree, and interpret the results.\n",
    "- What test MSE do you obtain?"
   ]
  },
  {
   "cell_type": "code",
   "execution_count": 3,
   "metadata": {},
   "outputs": [
    {
     "data": {
      "text/plain": [
       "\n",
       "Regression tree:\n",
       "tree(formula = Sales ~ ., data = train)\n",
       "Variables actually used in tree construction:\n",
       "[1] \"ShelveLoc\"   \"Price\"       \"CompPrice\"   \"Age\"         \"Income\"     \n",
       "[6] \"Advertising\" \"Education\"   \"Population\" \n",
       "Number of terminal nodes:  18 \n",
       "Residual mean deviance:  2.169 = 394.7 / 182 \n",
       "Distribution of residuals:\n",
       "    Min.  1st Qu.   Median     Mean  3rd Qu.     Max. \n",
       "-3.27900 -1.08100 -0.01183  0.00000  0.83700  3.31500 "
      ]
     },
     "metadata": {},
     "output_type": "display_data"
    }
   ],
   "source": [
    "library(tree)\n",
    "tree.fit = tree(Sales ~ ., data = train)\n",
    "summary(tree.fit)"
   ]
  },
  {
   "cell_type": "code",
   "execution_count": 4,
   "metadata": {},
   "outputs": [
    {
     "data": {
      "image/png": "[encoded data removed]",
      "text/plain": [
       "plot without title"
      ]
     },
     "metadata": {
      "image/png": {
       "height": 420,
       "width": 420
      },
      "text/plain": {
       "height": 420,
       "width": 420
      }
     },
     "output_type": "display_data"
    }
   ],
   "source": [
    "plot(tree.fit)\n",
    "text(tree.fit, pretty=5)"
   ]
  },
  {
   "cell_type": "markdown",
   "metadata": {},
   "source": [
    "**Comment:**\n",
    "\n",
    "From the above plot, we can see that \"ShelveLoc\" is the most important predictor, followed by \"Price\", \"Age\" and \"CompPrice\"."
   ]
  },
  {
   "cell_type": "code",
   "execution_count": 5,
   "metadata": {},
   "outputs": [
    {
     "data": {
      "text/html": [
       "5.29141346088784"
      ],
      "text/latex": [
       "5.29141346088784"
      ],
      "text/markdown": [
       "5.29141346088784"
      ],
      "text/plain": [
       "[1] 5.291413"
      ]
     },
     "metadata": {},
     "output_type": "display_data"
    }
   ],
   "source": [
    "mean((predict(tree.fit, newdata=test) - test$Sales)^2)"
   ]
  },
  {
   "cell_type": "markdown",
   "metadata": {},
   "source": [
    "**Comment:**\n",
    "\n",
    "When evaluating the tree model on test set, we obtained an MSE of about 5.29."
   ]
  },
  {
   "cell_type": "markdown",
   "metadata": {},
   "source": [
    "## Task (c)\n",
    "- Use cross-validation in order to determine the optimal level of tree complexity.\n",
    "- Does pruning the tree improve the test MSE?"
   ]
  },
  {
   "cell_type": "code",
   "execution_count": 6,
   "metadata": {},
   "outputs": [],
   "source": [
    "cv.eval = cv.tree(tree.fit, K = 20)"
   ]
  },
  {
   "cell_type": "code",
   "execution_count": 7,
   "metadata": {},
   "outputs": [
    {
     "data": {
      "image/png": "[encoded data removed]",
      "text/plain": [
       "plot without title"
      ]
     },
     "metadata": {
      "image/png": {
       "height": 420,
       "width": 420
      },
      "text/plain": {
       "height": 420,
       "width": 420
      }
     },
     "output_type": "display_data"
    }
   ],
   "source": [
    "plot(cv.eval$size, cv.eval$dev, type='b')\n",
    "tree.min = which.min(cv.eval$dev)\n",
    "points(cv.eval$size[tree.min], cv.eval$dev[tree.min], col = \"red\", cex = 3, pch = 20)"
   ]
  },
  {
   "cell_type": "markdown",
   "metadata": {},
   "source": [
    "**Comment:**\n",
    "\n",
    "In this case, the tree of size 10 is selected by cross-validation. We now prune the tree to obtain the 10-node tree."
   ]
  },
  {
   "cell_type": "code",
   "execution_count": 8,
   "metadata": {},
   "outputs": [
    {
     "data": {
      "image/png": "[encoded data removed]",
      "text/plain": [
       "plot without title"
      ]
     },
     "metadata": {
      "image/png": {
       "height": 420,
       "width": 420
      },
      "text/plain": {
       "height": 420,
       "width": 420
      }
     },
     "output_type": "display_data"
    }
   ],
   "source": [
    "prune.fit = prune.tree(tree.fit, best = cv.eval$size[tree.min])\n",
    "plot(prune.fit)\n",
    "text(prune.fit, pretty = 0)"
   ]
  },
  {
   "cell_type": "code",
   "execution_count": 9,
   "metadata": {},
   "outputs": [
    {
     "data": {
      "text/html": [
       "4.91212753667372"
      ],
      "text/latex": [
       "4.91212753667372"
      ],
      "text/markdown": [
       "4.91212753667372"
      ],
      "text/plain": [
       "[1] 4.912128"
      ]
     },
     "metadata": {},
     "output_type": "display_data"
    }
   ],
   "source": [
    "mean((predict(prune.fit, newdata=test) - test$Sales)^2)"
   ]
  },
  {
   "cell_type": "markdown",
   "metadata": {},
   "source": [
    "**Comment:**\n",
    "\n",
    "Prunnning the tree decreased test MSE to 4.91."
   ]
  },
  {
   "cell_type": "markdown",
   "metadata": {},
   "source": [
    "## Task (d)\n",
    "- Use the bagging approach in order to analyze this data. What test error rate do you obtain ? \n",
    "- Use the “importance()” function to determine which variables are most important."
   ]
  },
  {
   "cell_type": "code",
   "execution_count": 10,
   "metadata": {},
   "outputs": [
    {
     "name": "stderr",
     "output_type": "stream",
     "text": [
      "randomForest 4.6-14\n",
      "\n",
      "Type rfNews() to see new features/changes/bug fixes.\n",
      "\n"
     ]
    },
    {
     "data": {
      "text/html": [
       "2.50968622806863"
      ],
      "text/latex": [
       "2.50968622806863"
      ],
      "text/markdown": [
       "2.50968622806863"
      ],
      "text/plain": [
       "[1] 2.509686"
      ]
     },
     "metadata": {},
     "output_type": "display_data"
    }
   ],
   "source": [
    "library(randomForest)\n",
    "\n",
    "bag.fit = randomForest(Sales ~ ., data = train, mtry = 10, ntree = 500, importance = TRUE)\n",
    "mean((predict(bag.fit, newdata = test) - test$Sales)^2)"
   ]
  },
  {
   "cell_type": "markdown",
   "metadata": {},
   "source": [
    "**Comment:**\n",
    "\n",
    "Bagging decreased test MSE to 2.51."
   ]
  },
  {
   "cell_type": "code",
   "execution_count": 11,
   "metadata": {},
   "outputs": [
    {
     "data": {
      "text/html": [
       "<table>\n",
       "<caption>A matrix: 10 × 2 of type dbl</caption>\n",
       "<thead>\n",
       "\t<tr><th></th><th scope=col>%IncMSE</th><th scope=col>IncNodePurity</th></tr>\n",
       "</thead>\n",
       "<tbody>\n",
       "\t<tr><th scope=row>CompPrice</th><td>22.436606</td><td>157.546114</td></tr>\n",
       "\t<tr><th scope=row>Income</th><td> 4.390051</td><td> 73.838299</td></tr>\n",
       "\t<tr><th scope=row>Advertising</th><td>14.823004</td><td>126.628621</td></tr>\n",
       "\t<tr><th scope=row>Population</th><td>-1.390216</td><td> 60.761755</td></tr>\n",
       "\t<tr><th scope=row>Price</th><td>49.596130</td><td>426.701738</td></tr>\n",
       "\t<tr><th scope=row>ShelveLoc</th><td>53.752326</td><td>434.213922</td></tr>\n",
       "\t<tr><th scope=row>Age</th><td>22.476230</td><td>214.755462</td></tr>\n",
       "\t<tr><th scope=row>Education</th><td> 2.655059</td><td> 55.991428</td></tr>\n",
       "\t<tr><th scope=row>Urban</th><td>-1.329049</td><td>  9.422319</td></tr>\n",
       "\t<tr><th scope=row>US</th><td> 2.179891</td><td>  7.781087</td></tr>\n",
       "</tbody>\n",
       "</table>\n"
      ],
      "text/latex": [
       "A matrix: 10 × 2 of type dbl\n",
       "\\begin{tabular}{r|ll}\n",
       "  & \\%IncMSE & IncNodePurity\\\\\n",
       "\\hline\n",
       "\tCompPrice & 22.436606 & 157.546114\\\\\n",
       "\tIncome &  4.390051 &  73.838299\\\\\n",
       "\tAdvertising & 14.823004 & 126.628621\\\\\n",
       "\tPopulation & -1.390216 &  60.761755\\\\\n",
       "\tPrice & 49.596130 & 426.701738\\\\\n",
       "\tShelveLoc & 53.752326 & 434.213922\\\\\n",
       "\tAge & 22.476230 & 214.755462\\\\\n",
       "\tEducation &  2.655059 &  55.991428\\\\\n",
       "\tUrban & -1.329049 &   9.422319\\\\\n",
       "\tUS &  2.179891 &   7.781087\\\\\n",
       "\\end{tabular}\n"
      ],
      "text/markdown": [
       "\n",
       "A matrix: 10 × 2 of type dbl\n",
       "\n",
       "| <!--/--> | %IncMSE | IncNodePurity |\n",
       "|---|---|---|\n",
       "| CompPrice | 22.436606 | 157.546114 |\n",
       "| Income |  4.390051 |  73.838299 |\n",
       "| Advertising | 14.823004 | 126.628621 |\n",
       "| Population | -1.390216 |  60.761755 |\n",
       "| Price | 49.596130 | 426.701738 |\n",
       "| ShelveLoc | 53.752326 | 434.213922 |\n",
       "| Age | 22.476230 | 214.755462 |\n",
       "| Education |  2.655059 |  55.991428 |\n",
       "| Urban | -1.329049 |   9.422319 |\n",
       "| US |  2.179891 |   7.781087 |\n",
       "\n"
      ],
      "text/plain": [
       "            %IncMSE   IncNodePurity\n",
       "CompPrice   22.436606 157.546114   \n",
       "Income       4.390051  73.838299   \n",
       "Advertising 14.823004 126.628621   \n",
       "Population  -1.390216  60.761755   \n",
       "Price       49.596130 426.701738   \n",
       "ShelveLoc   53.752326 434.213922   \n",
       "Age         22.476230 214.755462   \n",
       "Education    2.655059  55.991428   \n",
       "Urban       -1.329049   9.422319   \n",
       "US           2.179891   7.781087   "
      ]
     },
     "metadata": {},
     "output_type": "display_data"
    }
   ],
   "source": [
    "importance(bag.fit)"
   ]
  },
  {
   "cell_type": "markdown",
   "metadata": {},
   "source": [
    "**Comment:**\n",
    "\n",
    "ShelveLoc and Price are the most importance predictors, followed by Age,  CompPrice and Advertising."
   ]
  },
  {
   "cell_type": "markdown",
   "metadata": {},
   "source": [
    "## Task (e)\n",
    "- Use random forests to analyze this data. What test error rate do you obtain ? \n",
    "- Use the \"importance()\" function to determine which variables are most important. \n",
    "- Describe the effect of m, the number of variables considered at each split, on the error rate obtained."
   ]
  },
  {
   "cell_type": "code",
   "execution_count": 12,
   "metadata": {},
   "outputs": [
    {
     "data": {
      "text/html": [
       "2.68423112601214"
      ],
      "text/latex": [
       "2.68423112601214"
      ],
      "text/markdown": [
       "2.68423112601214"
      ],
      "text/plain": [
       "[1] 2.684231"
      ]
     },
     "metadata": {},
     "output_type": "display_data"
    }
   ],
   "source": [
    "rf.fit = randomForest(Sales ~ ., data = train, mtry = 5, ntree = 500, importance = TRUE)\n",
    "mean((predict(rf.fit, newdata = test) - test$Sales)^2)"
   ]
  },
  {
   "cell_type": "markdown",
   "metadata": {},
   "source": [
    "**Comment:**\n",
    "\n",
    "With m = 0.5p, we have a Test MSE of 2.68."
   ]
  },
  {
   "cell_type": "code",
   "execution_count": 13,
   "metadata": {},
   "outputs": [
    {
     "data": {
      "text/html": [
       "<table>\n",
       "<caption>A matrix: 10 × 2 of type dbl</caption>\n",
       "<thead>\n",
       "\t<tr><th></th><th scope=col>%IncMSE</th><th scope=col>IncNodePurity</th></tr>\n",
       "</thead>\n",
       "<tbody>\n",
       "\t<tr><th scope=row>CompPrice</th><td>12.6976977</td><td>144.49265</td></tr>\n",
       "\t<tr><th scope=row>Income</th><td> 6.0332033</td><td>100.84750</td></tr>\n",
       "\t<tr><th scope=row>Advertising</th><td>11.9742664</td><td>138.18090</td></tr>\n",
       "\t<tr><th scope=row>Population</th><td> 0.8205712</td><td> 80.87692</td></tr>\n",
       "\t<tr><th scope=row>Price</th><td>38.4508100</td><td>377.02624</td></tr>\n",
       "\t<tr><th scope=row>ShelveLoc</th><td>41.1955639</td><td>361.68194</td></tr>\n",
       "\t<tr><th scope=row>Age</th><td>19.3532543</td><td>228.41756</td></tr>\n",
       "\t<tr><th scope=row>Education</th><td> 4.4943213</td><td> 73.38590</td></tr>\n",
       "\t<tr><th scope=row>Urban</th><td>-1.6452173</td><td> 10.79296</td></tr>\n",
       "\t<tr><th scope=row>US</th><td> 1.8242812</td><td> 16.51029</td></tr>\n",
       "</tbody>\n",
       "</table>\n"
      ],
      "text/latex": [
       "A matrix: 10 × 2 of type dbl\n",
       "\\begin{tabular}{r|ll}\n",
       "  & \\%IncMSE & IncNodePurity\\\\\n",
       "\\hline\n",
       "\tCompPrice & 12.6976977 & 144.49265\\\\\n",
       "\tIncome &  6.0332033 & 100.84750\\\\\n",
       "\tAdvertising & 11.9742664 & 138.18090\\\\\n",
       "\tPopulation &  0.8205712 &  80.87692\\\\\n",
       "\tPrice & 38.4508100 & 377.02624\\\\\n",
       "\tShelveLoc & 41.1955639 & 361.68194\\\\\n",
       "\tAge & 19.3532543 & 228.41756\\\\\n",
       "\tEducation &  4.4943213 &  73.38590\\\\\n",
       "\tUrban & -1.6452173 &  10.79296\\\\\n",
       "\tUS &  1.8242812 &  16.51029\\\\\n",
       "\\end{tabular}\n"
      ],
      "text/markdown": [
       "\n",
       "A matrix: 10 × 2 of type dbl\n",
       "\n",
       "| <!--/--> | %IncMSE | IncNodePurity |\n",
       "|---|---|---|\n",
       "| CompPrice | 12.6976977 | 144.49265 |\n",
       "| Income |  6.0332033 | 100.84750 |\n",
       "| Advertising | 11.9742664 | 138.18090 |\n",
       "| Population |  0.8205712 |  80.87692 |\n",
       "| Price | 38.4508100 | 377.02624 |\n",
       "| ShelveLoc | 41.1955639 | 361.68194 |\n",
       "| Age | 19.3532543 | 228.41756 |\n",
       "| Education |  4.4943213 |  73.38590 |\n",
       "| Urban | -1.6452173 |  10.79296 |\n",
       "| US |  1.8242812 |  16.51029 |\n",
       "\n"
      ],
      "text/plain": [
       "            %IncMSE    IncNodePurity\n",
       "CompPrice   12.6976977 144.49265    \n",
       "Income       6.0332033 100.84750    \n",
       "Advertising 11.9742664 138.18090    \n",
       "Population   0.8205712  80.87692    \n",
       "Price       38.4508100 377.02624    \n",
       "ShelveLoc   41.1955639 361.68194    \n",
       "Age         19.3532543 228.41756    \n",
       "Education    4.4943213  73.38590    \n",
       "Urban       -1.6452173  10.79296    \n",
       "US           1.8242812  16.51029    "
      ]
     },
     "metadata": {},
     "output_type": "display_data"
    }
   ],
   "source": [
    "importance(rf.fit)"
   ]
  },
  {
   "cell_type": "markdown",
   "metadata": {},
   "source": [
    "**Comment:**\n",
    "\n",
    "In this case, Price and ShelveLoc are once again the two most important predictors, followed by Age, CompPrice and Advertising"
   ]
  },
  {
   "cell_type": "markdown",
   "metadata": {},
   "source": [
    "# Exercise 2\n",
    "This problem involves the “OJ” data set which is part of the “ISLR” package."
   ]
  },
  {
   "cell_type": "code",
   "execution_count": 14,
   "metadata": {},
   "outputs": [
    {
     "data": {
      "text/html": [
       "<table>\n",
       "<caption>A data.frame: 6 × 18</caption>\n",
       "<thead>\n",
       "\t<tr><th></th><th scope=col>Purchase</th><th scope=col>WeekofPurchase</th><th scope=col>StoreID</th><th scope=col>PriceCH</th><th scope=col>PriceMM</th><th scope=col>DiscCH</th><th scope=col>DiscMM</th><th scope=col>SpecialCH</th><th scope=col>SpecialMM</th><th scope=col>LoyalCH</th><th scope=col>SalePriceMM</th><th scope=col>SalePriceCH</th><th scope=col>PriceDiff</th><th scope=col>Store7</th><th scope=col>PctDiscMM</th><th scope=col>PctDiscCH</th><th scope=col>ListPriceDiff</th><th scope=col>STORE</th></tr>\n",
       "\t<tr><th></th><th scope=col>&lt;fct&gt;</th><th scope=col>&lt;dbl&gt;</th><th scope=col>&lt;dbl&gt;</th><th scope=col>&lt;dbl&gt;</th><th scope=col>&lt;dbl&gt;</th><th scope=col>&lt;dbl&gt;</th><th scope=col>&lt;dbl&gt;</th><th scope=col>&lt;dbl&gt;</th><th scope=col>&lt;dbl&gt;</th><th scope=col>&lt;dbl&gt;</th><th scope=col>&lt;dbl&gt;</th><th scope=col>&lt;dbl&gt;</th><th scope=col>&lt;dbl&gt;</th><th scope=col>&lt;fct&gt;</th><th scope=col>&lt;dbl&gt;</th><th scope=col>&lt;dbl&gt;</th><th scope=col>&lt;dbl&gt;</th><th scope=col>&lt;dbl&gt;</th></tr>\n",
       "</thead>\n",
       "<tbody>\n",
       "\t<tr><th scope=row>1</th><td>CH</td><td>237</td><td>1</td><td>1.75</td><td>1.99</td><td>0.00</td><td>0.0</td><td>0</td><td>0</td><td>0.500000</td><td>1.99</td><td>1.75</td><td> 0.24</td><td>No </td><td>0.000000</td><td>0.000000</td><td>0.24</td><td>1</td></tr>\n",
       "\t<tr><th scope=row>2</th><td>CH</td><td>239</td><td>1</td><td>1.75</td><td>1.99</td><td>0.00</td><td>0.3</td><td>0</td><td>1</td><td>0.600000</td><td>1.69</td><td>1.75</td><td>-0.06</td><td>No </td><td>0.150754</td><td>0.000000</td><td>0.24</td><td>1</td></tr>\n",
       "\t<tr><th scope=row>3</th><td>CH</td><td>245</td><td>1</td><td>1.86</td><td>2.09</td><td>0.17</td><td>0.0</td><td>0</td><td>0</td><td>0.680000</td><td>2.09</td><td>1.69</td><td> 0.40</td><td>No </td><td>0.000000</td><td>0.091398</td><td>0.23</td><td>1</td></tr>\n",
       "\t<tr><th scope=row>4</th><td>MM</td><td>227</td><td>1</td><td>1.69</td><td>1.69</td><td>0.00</td><td>0.0</td><td>0</td><td>0</td><td>0.400000</td><td>1.69</td><td>1.69</td><td> 0.00</td><td>No </td><td>0.000000</td><td>0.000000</td><td>0.00</td><td>1</td></tr>\n",
       "\t<tr><th scope=row>5</th><td>CH</td><td>228</td><td>7</td><td>1.69</td><td>1.69</td><td>0.00</td><td>0.0</td><td>0</td><td>0</td><td>0.956535</td><td>1.69</td><td>1.69</td><td> 0.00</td><td>Yes</td><td>0.000000</td><td>0.000000</td><td>0.00</td><td>0</td></tr>\n",
       "\t<tr><th scope=row>6</th><td>CH</td><td>230</td><td>7</td><td>1.69</td><td>1.99</td><td>0.00</td><td>0.0</td><td>0</td><td>1</td><td>0.965228</td><td>1.99</td><td>1.69</td><td> 0.30</td><td>Yes</td><td>0.000000</td><td>0.000000</td><td>0.30</td><td>0</td></tr>\n",
       "</tbody>\n",
       "</table>\n"
      ],
      "text/latex": [
       "A data.frame: 6 × 18\n",
       "\\begin{tabular}{r|llllllllllllllllll}\n",
       "  & Purchase & WeekofPurchase & StoreID & PriceCH & PriceMM & DiscCH & DiscMM & SpecialCH & SpecialMM & LoyalCH & SalePriceMM & SalePriceCH & PriceDiff & Store7 & PctDiscMM & PctDiscCH & ListPriceDiff & STORE\\\\\n",
       "  & <fct> & <dbl> & <dbl> & <dbl> & <dbl> & <dbl> & <dbl> & <dbl> & <dbl> & <dbl> & <dbl> & <dbl> & <dbl> & <fct> & <dbl> & <dbl> & <dbl> & <dbl>\\\\\n",
       "\\hline\n",
       "\t1 & CH & 237 & 1 & 1.75 & 1.99 & 0.00 & 0.0 & 0 & 0 & 0.500000 & 1.99 & 1.75 &  0.24 & No  & 0.000000 & 0.000000 & 0.24 & 1\\\\\n",
       "\t2 & CH & 239 & 1 & 1.75 & 1.99 & 0.00 & 0.3 & 0 & 1 & 0.600000 & 1.69 & 1.75 & -0.06 & No  & 0.150754 & 0.000000 & 0.24 & 1\\\\\n",
       "\t3 & CH & 245 & 1 & 1.86 & 2.09 & 0.17 & 0.0 & 0 & 0 & 0.680000 & 2.09 & 1.69 &  0.40 & No  & 0.000000 & 0.091398 & 0.23 & 1\\\\\n",
       "\t4 & MM & 227 & 1 & 1.69 & 1.69 & 0.00 & 0.0 & 0 & 0 & 0.400000 & 1.69 & 1.69 &  0.00 & No  & 0.000000 & 0.000000 & 0.00 & 1\\\\\n",
       "\t5 & CH & 228 & 7 & 1.69 & 1.69 & 0.00 & 0.0 & 0 & 0 & 0.956535 & 1.69 & 1.69 &  0.00 & Yes & 0.000000 & 0.000000 & 0.00 & 0\\\\\n",
       "\t6 & CH & 230 & 7 & 1.69 & 1.99 & 0.00 & 0.0 & 0 & 1 & 0.965228 & 1.99 & 1.69 &  0.30 & Yes & 0.000000 & 0.000000 & 0.30 & 0\\\\\n",
       "\\end{tabular}\n"
      ],
      "text/markdown": [
       "\n",
       "A data.frame: 6 × 18\n",
       "\n",
       "| <!--/--> | Purchase &lt;fct&gt; | WeekofPurchase &lt;dbl&gt; | StoreID &lt;dbl&gt; | PriceCH &lt;dbl&gt; | PriceMM &lt;dbl&gt; | DiscCH &lt;dbl&gt; | DiscMM &lt;dbl&gt; | SpecialCH &lt;dbl&gt; | SpecialMM &lt;dbl&gt; | LoyalCH &lt;dbl&gt; | SalePriceMM &lt;dbl&gt; | SalePriceCH &lt;dbl&gt; | PriceDiff &lt;dbl&gt; | Store7 &lt;fct&gt; | PctDiscMM &lt;dbl&gt; | PctDiscCH &lt;dbl&gt; | ListPriceDiff &lt;dbl&gt; | STORE &lt;dbl&gt; |\n",
       "|---|---|---|---|---|---|---|---|---|---|---|---|---|---|---|---|---|---|---|\n",
       "| 1 | CH | 237 | 1 | 1.75 | 1.99 | 0.00 | 0.0 | 0 | 0 | 0.500000 | 1.99 | 1.75 |  0.24 | No  | 0.000000 | 0.000000 | 0.24 | 1 |\n",
       "| 2 | CH | 239 | 1 | 1.75 | 1.99 | 0.00 | 0.3 | 0 | 1 | 0.600000 | 1.69 | 1.75 | -0.06 | No  | 0.150754 | 0.000000 | 0.24 | 1 |\n",
       "| 3 | CH | 245 | 1 | 1.86 | 2.09 | 0.17 | 0.0 | 0 | 0 | 0.680000 | 2.09 | 1.69 |  0.40 | No  | 0.000000 | 0.091398 | 0.23 | 1 |\n",
       "| 4 | MM | 227 | 1 | 1.69 | 1.69 | 0.00 | 0.0 | 0 | 0 | 0.400000 | 1.69 | 1.69 |  0.00 | No  | 0.000000 | 0.000000 | 0.00 | 1 |\n",
       "| 5 | CH | 228 | 7 | 1.69 | 1.69 | 0.00 | 0.0 | 0 | 0 | 0.956535 | 1.69 | 1.69 |  0.00 | Yes | 0.000000 | 0.000000 | 0.00 | 0 |\n",
       "| 6 | CH | 230 | 7 | 1.69 | 1.99 | 0.00 | 0.0 | 0 | 1 | 0.965228 | 1.99 | 1.69 |  0.30 | Yes | 0.000000 | 0.000000 | 0.30 | 0 |\n",
       "\n"
      ],
      "text/plain": [
       "  Purchase WeekofPurchase StoreID PriceCH PriceMM DiscCH DiscMM SpecialCH\n",
       "1 CH       237            1       1.75    1.99    0.00   0.0    0        \n",
       "2 CH       239            1       1.75    1.99    0.00   0.3    0        \n",
       "3 CH       245            1       1.86    2.09    0.17   0.0    0        \n",
       "4 MM       227            1       1.69    1.69    0.00   0.0    0        \n",
       "5 CH       228            7       1.69    1.69    0.00   0.0    0        \n",
       "6 CH       230            7       1.69    1.99    0.00   0.0    0        \n",
       "  SpecialMM LoyalCH  SalePriceMM SalePriceCH PriceDiff Store7 PctDiscMM\n",
       "1 0         0.500000 1.99        1.75         0.24     No     0.000000 \n",
       "2 1         0.600000 1.69        1.75        -0.06     No     0.150754 \n",
       "3 0         0.680000 2.09        1.69         0.40     No     0.000000 \n",
       "4 0         0.400000 1.69        1.69         0.00     No     0.000000 \n",
       "5 0         0.956535 1.69        1.69         0.00     Yes    0.000000 \n",
       "6 1         0.965228 1.99        1.69         0.30     Yes    0.000000 \n",
       "  PctDiscCH ListPriceDiff STORE\n",
       "1 0.000000  0.24          1    \n",
       "2 0.000000  0.24          1    \n",
       "3 0.091398  0.23          1    \n",
       "4 0.000000  0.00          1    \n",
       "5 0.000000  0.00          0    \n",
       "6 0.000000  0.30          0    "
      ]
     },
     "metadata": {},
     "output_type": "display_data"
    }
   ],
   "source": [
    "head(OJ)"
   ]
  },
  {
   "cell_type": "markdown",
   "metadata": {},
   "source": [
    "## Task (a)\n",
    "Create a training set containing a random sample of 800 observations, and a test set containing the remaining observations."
   ]
  },
  {
   "cell_type": "code",
   "execution_count": 15,
   "metadata": {},
   "outputs": [
    {
     "name": "stdout",
     "output_type": "stream",
     "text": [
      "[1] 1070   18\n",
      "[1] 800  18\n",
      "[1] 270  18\n"
     ]
    }
   ],
   "source": [
    "train_idx = sample(1 : nrow(OJ), 800)\n",
    "train = OJ[train_idx,]\n",
    "test = OJ[-train_idx,]\n",
    "\n",
    "print(dim(OJ))\n",
    "print(dim(train))\n",
    "print(dim(test))"
   ]
  },
  {
   "cell_type": "markdown",
   "metadata": {},
   "source": [
    "## Task (b)\n",
    "- Fit a tree to the training data, with \"Purchase\" as the response and the other variables except for “Buy” as predictors. \n",
    "- Use the \"summary()\" function to produce summary statistics about the tree, and describe the results obtained. \n",
    "- What is the training error rate? How many terminal nodes does the tree have ?"
   ]
  },
  {
   "cell_type": "code",
   "execution_count": 16,
   "metadata": {},
   "outputs": [
    {
     "data": {
      "text/plain": [
       "\n",
       "Classification tree:\n",
       "tree(formula = Purchase ~ ., data = train)\n",
       "Variables actually used in tree construction:\n",
       "[1] \"LoyalCH\"       \"SalePriceMM\"   \"ListPriceDiff\" \"DiscCH\"       \n",
       "Number of terminal nodes:  7 \n",
       "Residual mean deviance:  0.7643 = 606.1 / 793 \n",
       "Misclassification error rate: 0.1675 = 134 / 800 "
      ]
     },
     "metadata": {},
     "output_type": "display_data"
    }
   ],
   "source": [
    "tree.fit = tree(Purchase ~ ., data = train)\n",
    "summary(tree.fit)"
   ]
  },
  {
   "cell_type": "markdown",
   "metadata": {},
   "source": [
    "**Comment:**\n",
    "\n",
    "- From the summary, we can conclude that only LoyalCH, SalePriceMM, ListPriceDiff and DiscCH are important in making prediction.\n",
    "- Training error rate: 0.1675\n",
    "- Terminal nodes: 7"
   ]
  },
  {
   "cell_type": "markdown",
   "metadata": {},
   "source": [
    "## Task (c)\n",
    "Type in the name of the tree object in order to get a detailed text output. Pick one of the terminal nodes, and interpret the information displayed."
   ]
  },
  {
   "cell_type": "code",
   "execution_count": 17,
   "metadata": {},
   "outputs": [
    {
     "data": {
      "text/plain": [
       "node), split, n, deviance, yval, (yprob)\n",
       "      * denotes terminal node\n",
       "\n",
       " 1) root 800 1077.00 CH ( 0.60000 0.40000 )  \n",
       "   2) LoyalCH < 0.469289 298  310.00 MM ( 0.21477 0.78523 )  \n",
       "     4) LoyalCH < 0.051325 71   10.51 MM ( 0.01408 0.98592 ) *\n",
       "     5) LoyalCH > 0.051325 227  268.10 MM ( 0.27753 0.72247 )  \n",
       "      10) SalePriceMM < 2.04 118  110.50 MM ( 0.17797 0.82203 ) *\n",
       "      11) SalePriceMM > 2.04 109  145.30 MM ( 0.38532 0.61468 ) *\n",
       "   3) LoyalCH > 0.469289 502  459.80 CH ( 0.82869 0.17131 )  \n",
       "     6) LoyalCH < 0.764572 237  294.30 CH ( 0.68776 0.31224 )  \n",
       "      12) ListPriceDiff < 0.235 95  131.20 MM ( 0.46316 0.53684 )  \n",
       "        24) DiscCH < 0.115 86  116.20 MM ( 0.40698 0.59302 ) *\n",
       "        25) DiscCH > 0.115 9    0.00 CH ( 1.00000 0.00000 ) *\n",
       "      13) ListPriceDiff > 0.235 142  125.80 CH ( 0.83803 0.16197 ) *\n",
       "     7) LoyalCH > 0.764572 265   97.72 CH ( 0.95472 0.04528 ) *"
      ]
     },
     "metadata": {},
     "output_type": "display_data"
    }
   ],
   "source": [
    "tree.fit"
   ]
  },
  {
   "cell_type": "markdown",
   "metadata": {},
   "source": [
    "**Comment:**\n",
    "\n",
    "- Here I choose the node labelled 4, which is a terminal node because of the asterisk.\n",
    "- The split criterion is LoyalCH < 0.051.\n",
    "- The number of observations in that branch is 71 with a deviance of 10.51 and an overall prediction for the branch of MM.\n",
    "- Less than 1.5% of the observations in that branch take the value of CH, and the remaining 98.5% take the value of MM."
   ]
  },
  {
   "cell_type": "markdown",
   "metadata": {},
   "source": [
    "## Task (d)\n",
    "Create a plot of the tree, and interpret the results."
   ]
  },
  {
   "cell_type": "code",
   "execution_count": 18,
   "metadata": {},
   "outputs": [
    {
     "data": {
      "image/png": "[encoded data removed]",
      "text/plain": [
       "plot without title"
      ]
     },
     "metadata": {
      "image/png": {
       "height": 420,
       "width": 420
      },
      "text/plain": {
       "height": 420,
       "width": 420
      }
     },
     "output_type": "display_data"
    }
   ],
   "source": [
    "plot(tree.fit)\n",
    "text(tree.fit, pretty = 0)"
   ]
  },
  {
   "cell_type": "markdown",
   "metadata": {},
   "source": [
    "**Comment:**\n",
    "\n",
    "The most important predictor of Purchase appears to be \"LoyalCH\", since the first branch differentiates the intensity of customer brand loyalty to CH. In fact, the top three nodes contain \"LoyalCH\"."
   ]
  },
  {
   "cell_type": "markdown",
   "metadata": {},
   "source": [
    "## Task (e)\n",
    "- Predict the response on the test data, and produce a confusion matrix comparing the test labels to the predicted test labels. \n",
    "- What is the test error rate ?"
   ]
  },
  {
   "cell_type": "code",
   "execution_count": 19,
   "metadata": {},
   "outputs": [
    {
     "data": {
      "text/plain": [
       "    \n",
       "      CH  MM\n",
       "  CH 131  15\n",
       "  MM  42  82"
      ]
     },
     "metadata": {},
     "output_type": "display_data"
    }
   ],
   "source": [
    "confusion_matrix = table(predict(tree.fit, test, type = \"class\"), test$Purchase)\n",
    "confusion_matrix"
   ]
  },
  {
   "cell_type": "code",
   "execution_count": 20,
   "metadata": {},
   "outputs": [
    {
     "name": "stdout",
     "output_type": "stream",
     "text": [
      "[1] 213\n",
      "[1] 57\n",
      "[1] 0.2111111\n"
     ]
    }
   ],
   "source": [
    "TruePred = confusion_matrix[1, 1] + confusion_matrix [2, 2]\n",
    "FalsePred = confusion_matrix[1, 2] + confusion_matrix [2, 1]\n",
    "print(TruePred)\n",
    "print(FalsePred)\n",
    "print(FalsePred/(TruePred+FalsePred))"
   ]
  },
  {
   "cell_type": "markdown",
   "metadata": {},
   "source": [
    "**Comment:**\n",
    "\n",
    "The test error rate is about 21.11%"
   ]
  },
  {
   "cell_type": "markdown",
   "metadata": {},
   "source": [
    "## Task (f)\n",
    "Apply the \"cv.tree()\" function to the training set in order to determine the optimal size tree."
   ]
  },
  {
   "cell_type": "code",
   "execution_count": 21,
   "metadata": {},
   "outputs": [
    {
     "data": {
      "text/plain": [
       "$size\n",
       "[1] 7 6 5 4 3 2 1\n",
       "\n",
       "$dev\n",
       "[1]  718.5719  714.9748  696.4151  728.5338  743.7698  794.4258 1078.6945\n",
       "\n",
       "$k\n",
       "[1]      -Inf  12.29767  14.95455  31.39305  37.32384  67.77637 306.98162\n",
       "\n",
       "$method\n",
       "[1] \"deviance\"\n",
       "\n",
       "attr(,\"class\")\n",
       "[1] \"prune\"         \"tree.sequence\""
      ]
     },
     "metadata": {},
     "output_type": "display_data"
    }
   ],
   "source": [
    "cv.eval = cv.tree(tree.fit, K=20)\n",
    "cv.eval"
   ]
  },
  {
   "cell_type": "markdown",
   "metadata": {},
   "source": [
    "**Comment:**\n",
    "\n",
    "In this case, the tree of size 5 is selected by cross-validation"
   ]
  },
  {
   "cell_type": "markdown",
   "metadata": {},
   "source": [
    "## Task (g)\n",
    "Produce a plot with tree size on the x-axis and cross-validated classification error rate on the y-axis."
   ]
  },
  {
   "cell_type": "code",
   "execution_count": 22,
   "metadata": {},
   "outputs": [
    {
     "data": {
      "image/png": "[encoded data removed]",
      "text/plain": [
       "plot without title"
      ]
     },
     "metadata": {
      "image/png": {
       "height": 420,
       "width": 420
      },
      "text/plain": {
       "height": 420,
       "width": 420
      }
     },
     "output_type": "display_data"
    }
   ],
   "source": [
    "plot(cv.eval$size, cv.eval$dev, type='b', xlab = \"Tree size\", ylab = \"Error rate\")\n",
    "tree.min = which.min(cv.eval$dev)\n",
    "points(cv.eval$size[tree.min], cv.eval$dev[tree.min], col = \"red\", cex = 3, pch = 20)"
   ]
  },
  {
   "cell_type": "markdown",
   "metadata": {},
   "source": [
    "## Task (h)\n",
    "- Which tree size corresponds to the lowest cross-validated classification error rate?\n",
    "\n",
    "**Comment:**\n",
    "\n",
    "Tree of size 5"
   ]
  },
  {
   "cell_type": "markdown",
   "metadata": {},
   "source": [
    "## Task (i)\n",
    "- Produce a pruned tree corresponding to the optimal tree size obtained using cross-validation.\n",
    "- If cross-validation does not lead to selection of a pruned tree, then create a pruned tree with five terminal nodes."
   ]
  },
  {
   "cell_type": "code",
   "execution_count": 23,
   "metadata": {},
   "outputs": [
    {
     "data": {
      "image/png": "[encoded data removed]",
      "text/plain": [
       "plot without title"
      ]
     },
     "metadata": {
      "image/png": {
       "height": 420,
       "width": 420
      },
      "text/plain": {
       "height": 420,
       "width": 420
      }
     },
     "output_type": "display_data"
    }
   ],
   "source": [
    "prune.fit = prune.tree(tree.fit, best = cv.eval$size[tree.min])\n",
    "plot(prune.fit)\n",
    "text(prune.fit, pretty = 0)"
   ]
  },
  {
   "cell_type": "markdown",
   "metadata": {},
   "source": [
    "## Task (j)\n",
    "Compare the training error rates between the pruned and unpruned trees. Which is higher?"
   ]
  },
  {
   "cell_type": "code",
   "execution_count": 24,
   "metadata": {},
   "outputs": [
    {
     "data": {
      "text/plain": [
       "\n",
       "Classification tree:\n",
       "tree(formula = Purchase ~ ., data = train)\n",
       "Variables actually used in tree construction:\n",
       "[1] \"LoyalCH\"       \"SalePriceMM\"   \"ListPriceDiff\" \"DiscCH\"       \n",
       "Number of terminal nodes:  7 \n",
       "Residual mean deviance:  0.7643 = 606.1 / 793 \n",
       "Misclassification error rate: 0.1675 = 134 / 800 "
      ]
     },
     "metadata": {},
     "output_type": "display_data"
    }
   ],
   "source": [
    "summary(tree.fit)"
   ]
  },
  {
   "cell_type": "code",
   "execution_count": 25,
   "metadata": {},
   "outputs": [
    {
     "data": {
      "text/plain": [
       "\n",
       "Classification tree:\n",
       "snip.tree(tree = tree.fit, nodes = c(5L, 12L))\n",
       "Variables actually used in tree construction:\n",
       "[1] \"LoyalCH\"       \"ListPriceDiff\"\n",
       "Number of terminal nodes:  5 \n",
       "Residual mean deviance:  0.7967 = 633.3 / 795 \n",
       "Misclassification error rate: 0.1788 = 143 / 800 "
      ]
     },
     "metadata": {},
     "output_type": "display_data"
    }
   ],
   "source": [
    "summary(prune.fit)"
   ]
  },
  {
   "cell_type": "markdown",
   "metadata": {},
   "source": [
    "**Comment:**\n",
    "\n",
    "The training error rate is slightly higher for the pruned tree (17.88% vs 16.75%)."
   ]
  },
  {
   "cell_type": "markdown",
   "metadata": {},
   "source": [
    "## Task (k)\n",
    "Compare the test error rates between the pruned and unpruned trees. Which is higher ?"
   ]
  },
  {
   "cell_type": "code",
   "execution_count": 26,
   "metadata": {},
   "outputs": [
    {
     "data": {
      "text/plain": [
       "    \n",
       "      CH  MM\n",
       "  CH 130  15\n",
       "  MM  43  82"
      ]
     },
     "metadata": {},
     "output_type": "display_data"
    }
   ],
   "source": [
    "confusion_matrix = table(predict(prune.fit, test, type = \"class\"), test$Purchase)\n",
    "confusion_matrix"
   ]
  },
  {
   "cell_type": "code",
   "execution_count": 27,
   "metadata": {},
   "outputs": [
    {
     "name": "stdout",
     "output_type": "stream",
     "text": [
      "[1] 212\n",
      "[1] 58\n",
      "[1] 0.2148148\n"
     ]
    }
   ],
   "source": [
    "TruePred = confusion_matrix[1, 1] + confusion_matrix [2, 2]\n",
    "FalsePred = confusion_matrix[1, 2] + confusion_matrix [2, 1]\n",
    "print(TruePred)\n",
    "print(FalsePred)\n",
    "print(FalsePred/(TruePred+FalsePred))"
   ]
  },
  {
   "cell_type": "markdown",
   "metadata": {},
   "source": [
    "**Comment:**\n",
    "\n",
    "The test error rate is slightly higher for the pruned tree (21.48%  vs 21.11%)."
   ]
  }
 ],
 "metadata": {
  "kernelspec": {
   "display_name": "R",
   "language": "R",
   "name": "ir"
  },
  "language_info": {
   "codemirror_mode": "r",
   "file_extension": ".r",
   "mimetype": "text/x-r-source",
   "name": "R",
   "pygments_lexer": "r",
   "version": "3.6.3"
  }
 },
 "nbformat": 4,
 "nbformat_minor": 4
}
