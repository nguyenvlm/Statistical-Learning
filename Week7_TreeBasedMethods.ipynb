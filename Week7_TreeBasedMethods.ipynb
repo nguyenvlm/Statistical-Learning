{
 "cells": [
  {
   "cell_type": "markdown",
   "metadata": {},
   "source": [
    "# Exercise 1\n",
    "In the lab, a classification tree was applied to the “Carseats” data set after converting “Sales” into a qualitative response variable. Now we will seek to predict “Sales” using regression trees and related approaches, treating the response as a quantitative variable."
   ]
  },
  {
   "cell_type": "code",
   "execution_count": 1,
   "metadata": {},
   "outputs": [
    {
     "data": {
      "text/html": [
       "<table>\n",
       "<caption>A data.frame: 6 × 11</caption>\n",
       "<thead>\n",
       "\t<tr><th></th><th scope=col>Sales</th><th scope=col>CompPrice</th><th scope=col>Income</th><th scope=col>Advertising</th><th scope=col>Population</th><th scope=col>Price</th><th scope=col>ShelveLoc</th><th scope=col>Age</th><th scope=col>Education</th><th scope=col>Urban</th><th scope=col>US</th></tr>\n",
       "\t<tr><th></th><th scope=col>&lt;dbl&gt;</th><th scope=col>&lt;dbl&gt;</th><th scope=col>&lt;dbl&gt;</th><th scope=col>&lt;dbl&gt;</th><th scope=col>&lt;dbl&gt;</th><th scope=col>&lt;dbl&gt;</th><th scope=col>&lt;fct&gt;</th><th scope=col>&lt;dbl&gt;</th><th scope=col>&lt;dbl&gt;</th><th scope=col>&lt;fct&gt;</th><th scope=col>&lt;fct&gt;</th></tr>\n",
       "</thead>\n",
       "<tbody>\n",
       "\t<tr><th scope=row>1</th><td> 9.50</td><td>138</td><td> 73</td><td>11</td><td>276</td><td>120</td><td>Bad   </td><td>42</td><td>17</td><td>Yes</td><td>Yes</td></tr>\n",
       "\t<tr><th scope=row>2</th><td>11.22</td><td>111</td><td> 48</td><td>16</td><td>260</td><td> 83</td><td>Good  </td><td>65</td><td>10</td><td>Yes</td><td>Yes</td></tr>\n",
       "\t<tr><th scope=row>3</th><td>10.06</td><td>113</td><td> 35</td><td>10</td><td>269</td><td> 80</td><td>Medium</td><td>59</td><td>12</td><td>Yes</td><td>Yes</td></tr>\n",
       "\t<tr><th scope=row>4</th><td> 7.40</td><td>117</td><td>100</td><td> 4</td><td>466</td><td> 97</td><td>Medium</td><td>55</td><td>14</td><td>Yes</td><td>Yes</td></tr>\n",
       "\t<tr><th scope=row>5</th><td> 4.15</td><td>141</td><td> 64</td><td> 3</td><td>340</td><td>128</td><td>Bad   </td><td>38</td><td>13</td><td>Yes</td><td>No </td></tr>\n",
       "\t<tr><th scope=row>6</th><td>10.81</td><td>124</td><td>113</td><td>13</td><td>501</td><td> 72</td><td>Bad   </td><td>78</td><td>16</td><td>No </td><td>Yes</td></tr>\n",
       "</tbody>\n",
       "</table>\n"
      ],
      "text/latex": [
       "A data.frame: 6 × 11\n",
       "\\begin{tabular}{r|lllllllllll}\n",
       "  & Sales & CompPrice & Income & Advertising & Population & Price & ShelveLoc & Age & Education & Urban & US\\\\\n",
       "  & <dbl> & <dbl> & <dbl> & <dbl> & <dbl> & <dbl> & <fct> & <dbl> & <dbl> & <fct> & <fct>\\\\\n",
       "\\hline\n",
       "\t1 &  9.50 & 138 &  73 & 11 & 276 & 120 & Bad    & 42 & 17 & Yes & Yes\\\\\n",
       "\t2 & 11.22 & 111 &  48 & 16 & 260 &  83 & Good   & 65 & 10 & Yes & Yes\\\\\n",
       "\t3 & 10.06 & 113 &  35 & 10 & 269 &  80 & Medium & 59 & 12 & Yes & Yes\\\\\n",
       "\t4 &  7.40 & 117 & 100 &  4 & 466 &  97 & Medium & 55 & 14 & Yes & Yes\\\\\n",
       "\t5 &  4.15 & 141 &  64 &  3 & 340 & 128 & Bad    & 38 & 13 & Yes & No \\\\\n",
       "\t6 & 10.81 & 124 & 113 & 13 & 501 &  72 & Bad    & 78 & 16 & No  & Yes\\\\\n",
       "\\end{tabular}\n"
      ],
      "text/markdown": [
       "\n",
       "A data.frame: 6 × 11\n",
       "\n",
       "| <!--/--> | Sales &lt;dbl&gt; | CompPrice &lt;dbl&gt; | Income &lt;dbl&gt; | Advertising &lt;dbl&gt; | Population &lt;dbl&gt; | Price &lt;dbl&gt; | ShelveLoc &lt;fct&gt; | Age &lt;dbl&gt; | Education &lt;dbl&gt; | Urban &lt;fct&gt; | US &lt;fct&gt; |\n",
       "|---|---|---|---|---|---|---|---|---|---|---|---|\n",
       "| 1 |  9.50 | 138 |  73 | 11 | 276 | 120 | Bad    | 42 | 17 | Yes | Yes |\n",
       "| 2 | 11.22 | 111 |  48 | 16 | 260 |  83 | Good   | 65 | 10 | Yes | Yes |\n",
       "| 3 | 10.06 | 113 |  35 | 10 | 269 |  80 | Medium | 59 | 12 | Yes | Yes |\n",
       "| 4 |  7.40 | 117 | 100 |  4 | 466 |  97 | Medium | 55 | 14 | Yes | Yes |\n",
       "| 5 |  4.15 | 141 |  64 |  3 | 340 | 128 | Bad    | 38 | 13 | Yes | No  |\n",
       "| 6 | 10.81 | 124 | 113 | 13 | 501 |  72 | Bad    | 78 | 16 | No  | Yes |\n",
       "\n"
      ],
      "text/plain": [
       "  Sales CompPrice Income Advertising Population Price ShelveLoc Age Education\n",
       "1  9.50 138        73    11          276        120   Bad       42  17       \n",
       "2 11.22 111        48    16          260         83   Good      65  10       \n",
       "3 10.06 113        35    10          269         80   Medium    59  12       \n",
       "4  7.40 117       100     4          466         97   Medium    55  14       \n",
       "5  4.15 141        64     3          340        128   Bad       38  13       \n",
       "6 10.81 124       113    13          501         72   Bad       78  16       \n",
       "  Urban US \n",
       "1 Yes   Yes\n",
       "2 Yes   Yes\n",
       "3 Yes   Yes\n",
       "4 Yes   Yes\n",
       "5 Yes   No \n",
       "6 No    Yes"
      ]
     },
     "metadata": {},
     "output_type": "display_data"
    }
   ],
   "source": [
    "library('ISLR')\n",
    "set.seed(1998)\n",
    "head(Carseats)"
   ]
  },
  {
   "cell_type": "markdown",
   "metadata": {},
   "source": [
    "## Task (a)\n",
    "Split the data set into a training set and a test set."
   ]
  },
  {
   "cell_type": "code",
   "execution_count": 2,
   "metadata": {},
   "outputs": [
    {
     "name": "stdout",
     "output_type": "stream",
     "text": [
      "[1] 400  11\n",
      "[1] 200  11\n",
      "[1] 200  11\n"
     ]
    }
   ],
   "source": [
    "train_idx = sample(1 : nrow(Carseats), nrow(Carseats)/2)\n",
    "train = Carseats[train_idx,]\n",
    "test = Carseats[-train_idx,]\n",
    "\n",
    "print(dim(Carseats))\n",
    "print(dim(train))\n",
    "print(dim(test))"
   ]
  },
  {
   "cell_type": "markdown",
   "metadata": {},
   "source": [
    "## Task (b)\n",
    "- Fit a regression tree to the training set. Plot the tree, and interpret the results.\n",
    "- What test MSE do you obtain?"
   ]
  },
  {
   "cell_type": "code",
   "execution_count": 3,
   "metadata": {},
   "outputs": [
    {
     "data": {
      "text/plain": [
       "\n",
       "Regression tree:\n",
       "tree(formula = Sales ~ ., data = train)\n",
       "Variables actually used in tree construction:\n",
       "[1] \"ShelveLoc\"   \"Price\"       \"CompPrice\"   \"Age\"         \"Income\"     \n",
       "[6] \"Advertising\" \"Education\"   \"Population\" \n",
       "Number of terminal nodes:  18 \n",
       "Residual mean deviance:  2.169 = 394.7 / 182 \n",
       "Distribution of residuals:\n",
       "    Min.  1st Qu.   Median     Mean  3rd Qu.     Max. \n",
       "-3.27900 -1.08100 -0.01183  0.00000  0.83700  3.31500 "
      ]
     },
     "metadata": {},
     "output_type": "display_data"
    }
   ],
   "source": [
    "library(tree)\n",
    "tree.fit = tree(Sales ~ ., data = train)\n",
    "summary(tree.fit)"
   ]
  },
  {
   "cell_type": "code",
   "execution_count": 4,
   "metadata": {},
   "outputs": [
    {
     "data": {
      "image/png": "[encoded data removed]",
      "text/plain": [
       "plot without title"
      ]
     },
     "metadata": {
      "image/png": {
       "height": 420,
       "width": 420
      },
      "text/plain": {
       "height": 420,
       "width": 420
      }
     },
     "output_type": "display_data"
    }
   ],
   "source": [
    "plot(tree.fit)\n",
    "text(tree.fit, pretty=5)"
   ]
  },
  {
   "cell_type": "markdown",
   "metadata": {},
   "source": [
    "**Comment:**\n",
    "\n",
    "From the above plot, we can see that \"ShelveLoc\" is the most important predictor, followed by \"Price\", \"Age\" and \"CompPrice\"."
   ]
  },
  {
   "cell_type": "code",
   "execution_count": 5,
   "metadata": {},
   "outputs": [
    {
     "data": {
      "text/html": [
       "5.29141346088784"
      ],
      "text/latex": [
       "5.29141346088784"
      ],
      "text/markdown": [
       "5.29141346088784"
      ],
      "text/plain": [
       "[1] 5.291413"
      ]
     },
     "metadata": {},
     "output_type": "display_data"
    }
   ],
   "source": [
    "mean((predict(tree.fit, newdata=test) - test$Sales)^2)"
   ]
  },
  {
   "cell_type": "markdown",
   "metadata": {},
   "source": [
    "**Comment:**\n",
    "\n",
    "When evaluating the tree model on test set, we obtained an MSE of about 5.29."
   ]
  },
  {
   "cell_type": "markdown",
   "metadata": {},
   "source": [
    "## Task (c)\n",
    "- Use cross-validation in order to determine the optimal level of tree complexity.\n",
    "- Does pruning the tree improve the test MSE?"
   ]
  },
  {
   "cell_type": "code",
   "execution_count": 6,
   "metadata": {},
   "outputs": [],
   "source": [
    "cv.eval = cv.tree(tree.fit, K = 20)"
   ]
  },
  {
   "cell_type": "code",
   "execution_count": 7,
   "metadata": {},
   "outputs": [
    {
     "data": {
      "image/png": "[encoded data removed]",
      "text/plain": [
       "plot without title"
      ]
     },
     "metadata": {
      "image/png": {
       "height": 420,
       "width": 420
      },
      "text/plain": {
       "height": 420,
       "width": 420
      }
     },
     "output_type": "display_data"
    }
   ],
   "source": [
    "plot(cv.eval$size, cv.eval$dev, type='b')\n",
    "tree.min = which.min(cv.eval$dev)\n",
    "points(cv.eval$size[tree.min], cv.eval$dev[tree.min], col = \"red\", cex = 3, pch = 20)"
   ]
  },
  {
   "cell_type": "markdown",
   "metadata": {},
   "source": [
    "**Comment:**\n",
    "\n",
    "In this case, the tree of size 10 is selected by cross-validation. We now prune the tree to obtain the 10-node tree."
   ]
  },
  {
   "cell_type": "code",
   "execution_count": 8,
   "metadata": {},
   "outputs": [
    {
     "data": {
      "image/png": "[encoded data removed]",
      "text/plain": [
       "plot without title"
      ]
     },
     "metadata": {
      "image/png": {
       "height": 420,
       "width": 420
      },
      "text/plain": {
       "height": 420,
       "width": 420
      }
     },
     "output_type": "display_data"
    }
   ],
   "source": [
    "prune.fit = prune.tree(tree.fit, best = cv.eval$size[tree.min])\n",
    "plot(prune.fit)\n",
    "text(prune.fit, pretty = 0)"
   ]
  },
  {
   "cell_type": "code",
   "execution_count": 9,
   "metadata": {},
   "outputs": [
    {
     "data": {
      "text/html": [
       "4.91212753667372"
      ],
      "text/latex": [
       "4.91212753667372"
      ],
      "text/markdown": [
       "4.91212753667372"
      ],
      "text/plain": [
       "[1] 4.912128"
      ]
     },
     "metadata": {},
     "output_type": "display_data"
    }
   ],
   "source": [
    "mean((predict(prune.fit, newdata=test) - test$Sales)^2)"
   ]
  },
  {
   "cell_type": "markdown",
   "metadata": {},
   "source": [
    "**Comment:**\n",
    "\n",
    "Prunnning the tree decreased test MSE to 4.91."
   ]
  },
  {
   "cell_type": "markdown",
   "metadata": {},
   "source": [
    "## Task (d)\n",
    "- Use the bagging approach in order to analyze this data. What test error rate do you obtain ? \n",
    "- Use the “importance()” function to determine which variables are most important."
   ]
  },
  {
   "cell_type": "code",
   "execution_count": 10,
   "metadata": {},
   "outputs": [
    {
     "name": "stderr",
     "output_type": "stream",
     "text": [
      "randomForest 4.6-14\n",
      "\n",
      "Type rfNews() to see new features/changes/bug fixes.\n",
      "\n"
     ]
    },
    {
     "data": {
      "text/html": [
       "2.50968622806863"
      ],
      "text/latex": [
       "2.50968622806863"
      ],
      "text/markdown": [
       "2.50968622806863"
      ],
      "text/plain": [
       "[1] 2.509686"
      ]
     },
     "metadata": {},
     "output_type": "display_data"
    }
   ],
   "source": [
    "library(randomForest)\n",
    "\n",
    "bag.fit = randomForest(Sales ~ ., data = train, mtry = 10, ntree = 500, importance = TRUE)\n",
    "mean((predict(bag.fit, newdata = test) - test$Sales)^2)"
   ]
  },
  {
   "cell_type": "markdown",
   "metadata": {},
   "source": [
    "**Comment:**\n",
    "\n",
    "Bagging decreased test MSE to 2.51."
   ]
  },
  {
   "cell_type": "code",
   "execution_count": 11,
   "metadata": {},
   "outputs": [
    {
     "data": {
      "text/html": [
       "<table>\n",
       "<caption>A matrix: 10 × 2 of type dbl</caption>\n",
       "<thead>\n",
       "\t<tr><th></th><th scope=col>%IncMSE</th><th scope=col>IncNodePurity</th></tr>\n",
       "</thead>\n",
       "<tbody>\n",
       "\t<tr><th scope=row>CompPrice</th><td>22.436606</td><td>157.546114</td></tr>\n",
       "\t<tr><th scope=row>Income</th><td> 4.390051</td><td> 73.838299</td></tr>\n",
       "\t<tr><th scope=row>Advertising</th><td>14.823004</td><td>126.628621</td></tr>\n",
       "\t<tr><th scope=row>Population</th><td>-1.390216</td><td> 60.761755</td></tr>\n",
       "\t<tr><th scope=row>Price</th><td>49.596130</td><td>426.701738</td></tr>\n",
       "\t<tr><th scope=row>ShelveLoc</th><td>53.752326</td><td>434.213922</td></tr>\n",
       "\t<tr><th scope=row>Age</th><td>22.476230</td><td>214.755462</td></tr>\n",
       "\t<tr><th scope=row>Education</th><td> 2.655059</td><td> 55.991428</td></tr>\n",
       "\t<tr><th scope=row>Urban</th><td>-1.329049</td><td>  9.422319</td></tr>\n",
       "\t<tr><th scope=row>US</th><td> 2.179891</td><td>  7.781087</td></tr>\n",
       "</tbody>\n",
       "</table>\n"
      ],
      "text/latex": [
       "A matrix: 10 × 2 of type dbl\n",
       "\\begin{tabular}{r|ll}\n",
       "  & \\%IncMSE & IncNodePurity\\\\\n",
       "\\hline\n",
       "\tCompPrice & 22.436606 & 157.546114\\\\\n",
       "\tIncome &  4.390051 &  73.838299\\\\\n",
       "\tAdvertising & 14.823004 & 126.628621\\\\\n",
       "\tPopulation & -1.390216 &  60.761755\\\\\n",
       "\tPrice & 49.596130 & 426.701738\\\\\n",
       "\tShelveLoc & 53.752326 & 434.213922\\\\\n",
       "\tAge & 22.476230 & 214.755462\\\\\n",
       "\tEducation &  2.655059 &  55.991428\\\\\n",
       "\tUrban & -1.329049 &   9.422319\\\\\n",
       "\tUS &  2.179891 &   7.781087\\\\\n",
       "\\end{tabular}\n"
      ],
      "text/markdown": [
       "\n",
       "A matrix: 10 × 2 of type dbl\n",
       "\n",
       "| <!--/--> | %IncMSE | IncNodePurity |\n",
       "|---|---|---|\n",
       "| CompPrice | 22.436606 | 157.546114 |\n",
       "| Income |  4.390051 |  73.838299 |\n",
       "| Advertising | 14.823004 | 126.628621 |\n",
       "| Population | -1.390216 |  60.761755 |\n",
       "| Price | 49.596130 | 426.701738 |\n",
       "| ShelveLoc | 53.752326 | 434.213922 |\n",
       "| Age | 22.476230 | 214.755462 |\n",
       "| Education |  2.655059 |  55.991428 |\n",
       "| Urban | -1.329049 |   9.422319 |\n",
       "| US |  2.179891 |   7.781087 |\n",
       "\n"
      ],
      "text/plain": [
       "            %IncMSE   IncNodePurity\n",
       "CompPrice   22.436606 157.546114   \n",
       "Income       4.390051  73.838299   \n",
       "Advertising 14.823004 126.628621   \n",
       "Population  -1.390216  60.761755   \n",
       "Price       49.596130 426.701738   \n",
       "ShelveLoc   53.752326 434.213922   \n",
       "Age         22.476230 214.755462   \n",
       "Education    2.655059  55.991428   \n",
       "Urban       -1.329049   9.422319   \n",
       "US           2.179891   7.781087   "
      ]
     },
     "metadata": {},
     "output_type": "display_data"
    }
   ],
   "source": [
    "importance(bag.fit)"
   ]
  },
  {
   "cell_type": "markdown",
   "metadata": {},
   "source": [
    "**Comment:**\n",
    "\n",
    "ShelveLoc and Price are the most importance predictors, followed by Age,  CompPrice and Advertising."
   ]
  },
  {
   "cell_type": "markdown",
   "metadata": {},
   "source": [
    "## Task (e)\n",
    "- Use random forests to analyze this data. What test error rate do you obtain ? \n",
    "- Use the \"importance()\" function to determine which variables are most important. \n",
    "- Describe the effect of m, the number of variables considered at each split, on the error rate obtained."
   ]
  },
  {
   "cell_type": "code",
   "execution_count": 12,
   "metadata": {},
   "outputs": [
    {
     "data": {
      "text/html": [
       "2.68423112601214"
      ],
      "text/latex": [
       "2.68423112601214"
      ],
      "text/markdown": [
       "2.68423112601214"
      ],
      "text/plain": [
       "[1] 2.684231"
      ]
     },
     "metadata": {},
     "output_type": "display_data"
    }
   ],
   "source": [
    "rf.fit = randomForest(Sales ~ ., data = train, mtry = 5, ntree = 500, importance = TRUE)\n",
    "mean((predict(rf.fit, newdata = test) - test$Sales)^2)"
   ]
  },
  {
   "cell_type": "markdown",
   "metadata": {},
   "source": [
    "**Comment:**\n",
    "\n",
    "With m = 0.5p, we have a Test MSE of 2.68."
   ]
  },
  {
   "cell_type": "code",
   "execution_count": 13,
   "metadata": {},
   "outputs": [
    {
     "data": {
      "text/html": [
       "<table>\n",
       "<caption>A matrix: 10 × 2 of type dbl</caption>\n",
       "<thead>\n",
       "\t<tr><th></th><th scope=col>%IncMSE</th><th scope=col>IncNodePurity</th></tr>\n",
       "</thead>\n",
       "<tbody>\n",
       "\t<tr><th scope=row>CompPrice</th><td>12.6976977</td><td>144.49265</td></tr>\n",
       "\t<tr><th scope=row>Income</th><td> 6.0332033</td><td>100.84750</td></tr>\n",
       "\t<tr><th scope=row>Advertising</th><td>11.9742664</td><td>138.18090</td></tr>\n",
       "\t<tr><th scope=row>Population</th><td> 0.8205712</td><td> 80.87692</td></tr>\n",
       "\t<tr><th scope=row>Price</th><td>38.4508100</td><td>377.02624</td></tr>\n",
       "\t<tr><th scope=row>ShelveLoc</th><td>41.1955639</td><td>361.68194</td></tr>\n",
       "\t<tr><th scope=row>Age</th><td>19.3532543</td><td>228.41756</td></tr>\n",
       "\t<tr><th scope=row>Education</th><td> 4.4943213</td><td> 73.38590</td></tr>\n",
       "\t<tr><th scope=row>Urban</th><td>-1.6452173</td><td> 10.79296</td></tr>\n",
       "\t<tr><th scope=row>US</th><td> 1.8242812</td><td> 16.51029</td></tr>\n",
       "</tbody>\n",
       "</table>\n"
      ],
      "text/latex": [
       "A matrix: 10 × 2 of type dbl\n",
       "\\begin{tabular}{r|ll}\n",
       "  & \\%IncMSE & IncNodePurity\\\\\n",
       "\\hline\n",
       "\tCompPrice & 12.6976977 & 144.49265\\\\\n",
       "\tIncome &  6.0332033 & 100.84750\\\\\n",
       "\tAdvertising & 11.9742664 & 138.18090\\\\\n",
       "\tPopulation &  0.8205712 &  80.87692\\\\\n",
       "\tPrice & 38.4508100 & 377.02624\\\\\n",
       "\tShelveLoc & 41.1955639 & 361.68194\\\\\n",
       "\tAge & 19.3532543 & 228.41756\\\\\n",
       "\tEducation &  4.4943213 &  73.38590\\\\\n",
       "\tUrban & -1.6452173 &  10.79296\\\\\n",
       "\tUS &  1.8242812 &  16.51029\\\\\n",
       "\\end{tabular}\n"
      ],
      "text/markdown": [
       "\n",
       "A matrix: 10 × 2 of type dbl\n",
       "\n",
       "| <!--/--> | %IncMSE | IncNodePurity |\n",
       "|---|---|---|\n",
       "| CompPrice | 12.6976977 | 144.49265 |\n",
       "| Income |  6.0332033 | 100.84750 |\n",
       "| Advertising | 11.9742664 | 138.18090 |\n",
       "| Population |  0.8205712 |  80.87692 |\n",
       "| Price | 38.4508100 | 377.02624 |\n",
       "| ShelveLoc | 41.1955639 | 361.68194 |\n",
       "| Age | 19.3532543 | 228.41756 |\n",
       "| Education |  4.4943213 |  73.38590 |\n",
       "| Urban | -1.6452173 |  10.79296 |\n",
       "| US |  1.8242812 |  16.51029 |\n",
       "\n"
      ],
      "text/plain": [
       "            %IncMSE    IncNodePurity\n",
       "CompPrice   12.6976977 144.49265    \n",
       "Income       6.0332033 100.84750    \n",
       "Advertising 11.9742664 138.18090    \n",
       "Population   0.8205712  80.87692    \n",
       "Price       38.4508100 377.02624    \n",
       "ShelveLoc   41.1955639 361.68194    \n",
       "Age         19.3532543 228.41756    \n",
       "Education    4.4943213  73.38590    \n",
       "Urban       -1.6452173  10.79296    \n",
       "US           1.8242812  16.51029    "
      ]
     },
     "metadata": {},
     "output_type": "display_data"
    }
   ],
   "source": [
    "importance(rf.fit)"
   ]
  },
  {
   "cell_type": "markdown",
   "metadata": {},
   "source": [
    "**Comment:**\n",
    "\n",
    "In this case, Price and ShelveLoc are once again the two most important predictors, followed by Age, CompPrice and Advertising"
   ]
  },
  {
   "cell_type": "markdown",
   "metadata": {},
   "source": [
    "# Exercise 2\n",
    "This problem involves the “OJ” data set which is part of the “ISLR” package."
   ]
  },
  {
   "cell_type": "code",
   "execution_count": 14,
   "metadata": {},
   "outputs": [
    {
     "data": {
      "text/html": [
       "<table>\n",
       "<caption>A data.frame: 6 × 18</caption>\n",
       "<thead>\n",
       "\t<tr><th></th><th scope=col>Purchase</th><th scope=col>WeekofPurchase</th><th scope=col>StoreID</th><th scope=col>PriceCH</th><th scope=col>PriceMM</th><th scope=col>DiscCH</th><th scope=col>DiscMM</th><th scope=col>SpecialCH</th><th scope=col>SpecialMM</th><th scope=col>LoyalCH</th><th scope=col>SalePriceMM</th><th scope=col>SalePriceCH</th><th scope=col>PriceDiff</th><th scope=col>Store7</th><th scope=col>PctDiscMM</th><th scope=col>PctDiscCH</th><th scope=col>ListPriceDiff</th><th scope=col>STORE</th></tr>\n",
       "\t<tr><th></th><th scope=col>&lt;fct&gt;</th><th scope=col>&lt;dbl&gt;</th><th scope=col>&lt;dbl&gt;</th><th scope=col>&lt;dbl&gt;</th><th scope=col>&lt;dbl&gt;</th><th scope=col>&lt;dbl&gt;</th><th scope=col>&lt;dbl&gt;</th><th scope=col>&lt;dbl&gt;</th><th scope=col>&lt;dbl&gt;</th><th scope=col>&lt;dbl&gt;</th><th scope=col>&lt;dbl&gt;</th><th scope=col>&lt;dbl&gt;</th><th scope=col>&lt;dbl&gt;</th><th scope=col>&lt;fct&gt;</th><th scope=col>&lt;dbl&gt;</th><th scope=col>&lt;dbl&gt;</th><th scope=col>&lt;dbl&gt;</th><th scope=col>&lt;dbl&gt;</th></tr>\n",
       "</thead>\n",
       "<tbody>\n",
       "\t<tr><th scope=row>1</th><td>CH</td><td>237</td><td>1</td><td>1.75</td><td>1.99</td><td>0.00</td><td>0.0</td><td>0</td><td>0</td><td>0.500000</td><td>1.99</td><td>1.75</td><td> 0.24</td><td>No </td><td>0.000000</td><td>0.000000</td><td>0.24</td><td>1</td></tr>\n",
       "\t<tr><th scope=row>2</th><td>CH</td><td>239</td><td>1</td><td>1.75</td><td>1.99</td><td>0.00</td><td>0.3</td><td>0</td><td>1</td><td>0.600000</td><td>1.69</td><td>1.75</td><td>-0.06</td><td>No </td><td>0.150754</td><td>0.000000</td><td>0.24</td><td>1</td></tr>\n",
       "\t<tr><th scope=row>3</th><td>CH</td><td>245</td><td>1</td><td>1.86</td><td>2.09</td><td>0.17</td><td>0.0</td><td>0</td><td>0</td><td>0.680000</td><td>2.09</td><td>1.69</td><td> 0.40</td><td>No </td><td>0.000000</td><td>0.091398</td><td>0.23</td><td>1</td></tr>\n",
       "\t<tr><th scope=row>4</th><td>MM</td><td>227</td><td>1</td><td>1.69</td><td>1.69</td><td>0.00</td><td>0.0</td><td>0</td><td>0</td><td>0.400000</td><td>1.69</td><td>1.69</td><td> 0.00</td><td>No </td><td>0.000000</td><td>0.000000</td><td>0.00</td><td>1</td></tr>\n",
       "\t<tr><th scope=row>5</th><td>CH</td><td>228</td><td>7</td><td>1.69</td><td>1.69</td><td>0.00</td><td>0.0</td><td>0</td><td>0</td><td>0.956535</td><td>1.69</td><td>1.69</td><td> 0.00</td><td>Yes</td><td>0.000000</td><td>0.000000</td><td>0.00</td><td>0</td></tr>\n",
       "\t<tr><th scope=row>6</th><td>CH</td><td>230</td><td>7</td><td>1.69</td><td>1.99</td><td>0.00</td><td>0.0</td><td>0</td><td>1</td><td>0.965228</td><td>1.99</td><td>1.69</td><td> 0.30</td><td>Yes</td><td>0.000000</td><td>0.000000</td><td>0.30</td><td>0</td></tr>\n",
       "</tbody>\n",
       "</table>\n"
      ],
      "text/latex": [
       "A data.frame: 6 × 18\n",
       "\\begin{tabular}{r|llllllllllllllllll}\n",
       "  & Purchase & WeekofPurchase & StoreID & PriceCH & PriceMM & DiscCH & DiscMM & SpecialCH & SpecialMM & LoyalCH & SalePriceMM & SalePriceCH & PriceDiff & Store7 & PctDiscMM & PctDiscCH & ListPriceDiff & STORE\\\\\n",
       "  & <fct> & <dbl> & <dbl> & <dbl> & <dbl> & <dbl> & <dbl> & <dbl> & <dbl> & <dbl> & <dbl> & <dbl> & <dbl> & <fct> & <dbl> & <dbl> & <dbl> & <dbl>\\\\\n",
       "\\hline\n",
       "\t1 & CH & 237 & 1 & 1.75 & 1.99 & 0.00 & 0.0 & 0 & 0 & 0.500000 & 1.99 & 1.75 &  0.24 & No  & 0.000000 & 0.000000 & 0.24 & 1\\\\\n",
       "\t2 & CH & 239 & 1 & 1.75 & 1.99 & 0.00 & 0.3 & 0 & 1 & 0.600000 & 1.69 & 1.75 & -0.06 & No  & 0.150754 & 0.000000 & 0.24 & 1\\\\\n",
       "\t3 & CH & 245 & 1 & 1.86 & 2.09 & 0.17 & 0.0 & 0 & 0 & 0.680000 & 2.09 & 1.69 &  0.40 & No  & 0.000000 & 0.091398 & 0.23 & 1\\\\\n",
       "\t4 & MM & 227 & 1 & 1.69 & 1.69 & 0.00 & 0.0 & 0 & 0 & 0.400000 & 1.69 & 1.69 &  0.00 & No  & 0.000000 & 0.000000 & 0.00 & 1\\\\\n",
       "\t5 & CH & 228 & 7 & 1.69 & 1.69 & 0.00 & 0.0 & 0 & 0 & 0.956535 & 1.69 & 1.69 &  0.00 & Yes & 0.000000 & 0.000000 & 0.00 & 0\\\\\n",
       "\t6 & CH & 230 & 7 & 1.69 & 1.99 & 0.00 & 0.0 & 0 & 1 & 0.965228 & 1.99 & 1.69 &  0.30 & Yes & 0.000000 & 0.000000 & 0.30 & 0\\\\\n",
       "\\end{tabular}\n"
      ],
      "text/markdown": [
       "\n",
       "A data.frame: 6 × 18\n",
       "\n",
       "| <!--/--> | Purchase &lt;fct&gt; | WeekofPurchase &lt;dbl&gt; | StoreID &lt;dbl&gt; | PriceCH &lt;dbl&gt; | PriceMM &lt;dbl&gt; | DiscCH &lt;dbl&gt; | DiscMM &lt;dbl&gt; | SpecialCH &lt;dbl&gt; | SpecialMM &lt;dbl&gt; | LoyalCH &lt;dbl&gt; | SalePriceMM &lt;dbl&gt; | SalePriceCH &lt;dbl&gt; | PriceDiff &lt;dbl&gt; | Store7 &lt;fct&gt; | PctDiscMM &lt;dbl&gt; | PctDiscCH &lt;dbl&gt; | ListPriceDiff &lt;dbl&gt; | STORE &lt;dbl&gt; |\n",
       "|---|---|---|---|---|---|---|---|---|---|---|---|---|---|---|---|---|---|---|\n",
       "| 1 | CH | 237 | 1 | 1.75 | 1.99 | 0.00 | 0.0 | 0 | 0 | 0.500000 | 1.99 | 1.75 |  0.24 | No  | 0.000000 | 0.000000 | 0.24 | 1 |\n",
       "| 2 | CH | 239 | 1 | 1.75 | 1.99 | 0.00 | 0.3 | 0 | 1 | 0.600000 | 1.69 | 1.75 | -0.06 | No  | 0.150754 | 0.000000 | 0.24 | 1 |\n",
       "| 3 | CH | 245 | 1 | 1.86 | 2.09 | 0.17 | 0.0 | 0 | 0 | 0.680000 | 2.09 | 1.69 |  0.40 | No  | 0.000000 | 0.091398 | 0.23 | 1 |\n",
       "| 4 | MM | 227 | 1 | 1.69 | 1.69 | 0.00 | 0.0 | 0 | 0 | 0.400000 | 1.69 | 1.69 |  0.00 | No  | 0.000000 | 0.000000 | 0.00 | 1 |\n",
       "| 5 | CH | 228 | 7 | 1.69 | 1.69 | 0.00 | 0.0 | 0 | 0 | 0.956535 | 1.69 | 1.69 |  0.00 | Yes | 0.000000 | 0.000000 | 0.00 | 0 |\n",
       "| 6 | CH | 230 | 7 | 1.69 | 1.99 | 0.00 | 0.0 | 0 | 1 | 0.965228 | 1.99 | 1.69 |  0.30 | Yes | 0.000000 | 0.000000 | 0.30 | 0 |\n",
       "\n"
      ],
      "text/plain": [
       "  Purchase WeekofPurchase StoreID PriceCH PriceMM DiscCH DiscMM SpecialCH\n",
       "1 CH       237            1       1.75    1.99    0.00   0.0    0        \n",
       "2 CH       239            1       1.75    1.99    0.00   0.3    0        \n",
       "3 CH       245            1       1.86    2.09    0.17   0.0    0        \n",
       "4 MM       227            1       1.69    1.69    0.00   0.0    0        \n",
       "5 CH       228            7       1.69    1.69    0.00   0.0    0        \n",
       "6 CH       230            7       1.69    1.99    0.00   0.0    0        \n",
       "  SpecialMM LoyalCH  SalePriceMM SalePriceCH PriceDiff Store7 PctDiscMM\n",
       "1 0         0.500000 1.99        1.75         0.24     No     0.000000 \n",
       "2 1         0.600000 1.69        1.75        -0.06     No     0.150754 \n",
       "3 0         0.680000 2.09        1.69         0.40     No     0.000000 \n",
       "4 0         0.400000 1.69        1.69         0.00     No     0.000000 \n",
       "5 0         0.956535 1.69        1.69         0.00     Yes    0.000000 \n",
       "6 1         0.965228 1.99        1.69         0.30     Yes    0.000000 \n",
       "  PctDiscCH ListPriceDiff STORE\n",
       "1 0.000000  0.24          1    \n",
       "2 0.000000  0.24          1    \n",
       "3 0.091398  0.23          1    \n",
       "4 0.000000  0.00          1    \n",
       "5 0.000000  0.00          0    \n",
       "6 0.000000  0.30          0    "
      ]
     },
     "metadata": {},
     "output_type": "display_data"
    }
   ],
   "source": [
    "head(OJ)"
   ]
  },
  {
   "cell_type": "markdown",
   "metadata": {},
   "source": [
    "## Task (a)\n",
    "Create a training set containing a random sample of 800 observations, and a test set containing the remaining observations."
   ]
  },
  {
   "cell_type": "code",
   "execution_count": 15,
   "metadata": {},
   "outputs": [
    {
     "name": "stdout",
     "output_type": "stream",
     "text": [
      "[1] 1070   18\n",
      "[1] 800  18\n",
      "[1] 270  18\n"
     ]
    }
   ],
   "source": [
    "train_idx = sample(1 : nrow(OJ), 800)\n",
    "train = OJ[train_idx,]\n",
    "test = OJ[-train_idx,]\n",
    "\n",
    "print(dim(OJ))\n",
    "print(dim(train))\n",
    "print(dim(test))"
   ]
  },
  {
   "cell_type": "markdown",
   "metadata": {},
   "source": [
    "## Task (b)\n",
    "- Fit a tree to the training data, with \"Purchase\" as the response and the other variables except for “Buy” as predictors. \n",
    "- Use the \"summary()\" function to produce summary statistics about the tree, and describe the results obtained. \n",
    "- What is the training error rate? How many terminal nodes does the tree have ?"
   ]
  },
  {
   "cell_type": "code",
   "execution_count": 16,
   "metadata": {},
   "outputs": [
    {
     "data": {
      "text/plain": [
       "\n",
       "Classification tree:\n",
       "tree(formula = Purchase ~ ., data = train)\n",
       "Variables actually used in tree construction:\n",
       "[1] \"LoyalCH\"       \"SalePriceMM\"   \"ListPriceDiff\" \"DiscCH\"       \n",
       "Number of terminal nodes:  7 \n",
       "Residual mean deviance:  0.7643 = 606.1 / 793 \n",
       "Misclassification error rate: 0.1675 = 134 / 800 "
      ]
     },
     "metadata": {},
     "output_type": "display_data"
    }
   ],
   "source": [
    "tree.fit = tree(Purchase ~ ., data = train)\n",
    "summary(tree.fit)"
   ]
  },
  {
   "cell_type": "markdown",
   "metadata": {},
   "source": [
    "**Comment:**\n",
    "\n",
    "- From the summary, we can conclude that only LoyalCH, SalePriceMM, ListPriceDiff and DiscCH are important in making prediction.\n",
    "- Training error rate: 0.1675\n",
    "- Terminal nodes: 7"
   ]
  },
  {
   "cell_type": "markdown",
   "metadata": {},
   "source": [
    "## Task (c)\n",
    "Type in the name of the tree object in order to get a detailed text output. Pick one of the terminal nodes, and interpret the information displayed."
   ]
  },
  {
   "cell_type": "code",
   "execution_count": 17,
   "metadata": {},
   "outputs": [
    {
     "data": {
      "text/plain": [
       "node), split, n, deviance, yval, (yprob)\n",
       "      * denotes terminal node\n",
       "\n",
       " 1) root 800 1077.00 CH ( 0.60000 0.40000 )  \n",
       "   2) LoyalCH < 0.469289 298  310.00 MM ( 0.21477 0.78523 )  \n",
       "     4) LoyalCH < 0.051325 71   10.51 MM ( 0.01408 0.98592 ) *\n",
       "     5) LoyalCH > 0.051325 227  268.10 MM ( 0.27753 0.72247 )  \n",
       "      10) SalePriceMM < 2.04 118  110.50 MM ( 0.17797 0.82203 ) *\n",
       "      11) SalePriceMM > 2.04 109  145.30 MM ( 0.38532 0.61468 ) *\n",
       "   3) LoyalCH > 0.469289 502  459.80 CH ( 0.82869 0.17131 )  \n",
       "     6) LoyalCH < 0.764572 237  294.30 CH ( 0.68776 0.31224 )  \n",
       "      12) ListPriceDiff < 0.235 95  131.20 MM ( 0.46316 0.53684 )  \n",
       "        24) DiscCH < 0.115 86  116.20 MM ( 0.40698 0.59302 ) *\n",
       "        25) DiscCH > 0.115 9    0.00 CH ( 1.00000 0.00000 ) *\n",
       "      13) ListPriceDiff > 0.235 142  125.80 CH ( 0.83803 0.16197 ) *\n",
       "     7) LoyalCH > 0.764572 265   97.72 CH ( 0.95472 0.04528 ) *"
      ]
     },
     "metadata": {},
     "output_type": "display_data"
    }
   ],
   "source": [
    "tree.fit"
   ]
  },
  {
   "cell_type": "markdown",
   "metadata": {},
   "source": [
    "**Comment:**\n",
    "\n",
    "- Here I choose the node labelled 4, which is a terminal node because of the asterisk.\n",
    "- The split criterion is LoyalCH < 0.051.\n",
    "- The number of observations in that branch is 71 with a deviance of 10.51 and an overall prediction for the branch of MM.\n",
    "- Less than 1.5% of the observations in that branch take the value of CH, and the remaining 98.5% take the value of MM."
   ]
  },
  {
   "cell_type": "markdown",
   "metadata": {},
   "source": [
    "## Task (d)\n",
    "Create a plot of the tree, and interpret the results."
   ]
  },
  {
   "cell_type": "code",
   "execution_count": 18,
   "metadata": {},
   "outputs": [
    {
     "data": {
      "image/png": "[encoded data removed]",
      "text/plain": [
       "plot without title"
      ]
     },
     "metadata": {
      "image/png": {
       "height": 420,
       "width": 420
      },
      "text/plain": {
       "height": 420,
       "width": 420
      }
     },
     "output_type": "display_data"
    }
   ],
   "source": [
    "plot(tree.fit)\n",
    "text(tree.fit, pretty = 0)"
   ]
  },
  {
   "cell_type": "markdown",
   "metadata": {},
   "source": [
    "**Comment:**\n",
    "\n",
    "The most important predictor of Purchase appears to be \"LoyalCH\", since the first branch differentiates the intensity of customer brand loyalty to CH. In fact, the top three nodes contain \"LoyalCH\"."
   ]
  },
  {
   "cell_type": "markdown",
   "metadata": {},
   "source": [
    "## Task (e)\n",
    "- Predict the response on the test data, and produce a confusion matrix comparing the test labels to the predicted test labels. \n",
    "- What is the test error rate ?"
   ]
  },
  {
   "cell_type": "code",
   "execution_count": 19,
   "metadata": {},
   "outputs": [
    {
     "data": {
      "text/plain": [
       "    \n",
       "      CH  MM\n",
       "  CH 131  15\n",
       "  MM  42  82"
      ]
     },
     "metadata": {},
     "output_type": "display_data"
    }
   ],
   "source": [
    "confusion_matrix = table(predict(tree.fit, test, type = \"class\"), test$Purchase)\n",
    "confusion_matrix"
   ]
  },
  {
   "cell_type": "code",
   "execution_count": 20,
   "metadata": {},
   "outputs": [
    {
     "name": "stdout",
     "output_type": "stream",
     "text": [
      "[1] 213\n",
      "[1] 57\n",
      "[1] 0.2111111\n"
     ]
    }
   ],
   "source": [
    "TruePred = confusion_matrix[1, 1] + confusion_matrix [2, 2]\n",
    "FalsePred = confusion_matrix[1, 2] + confusion_matrix [2, 1]\n",
    "print(TruePred)\n",
    "print(FalsePred)\n",
    "print(FalsePred/(TruePred+FalsePred))"
   ]
  },
  {
   "cell_type": "markdown",
   "metadata": {},
   "source": [
    "**Comment:**\n",
    "\n",
    "The test error rate is about 21.11%"
   ]
  },
  {
   "cell_type": "markdown",
   "metadata": {},
   "source": [
    "## Task (f)\n",
    "Apply the \"cv.tree()\" function to the training set in order to determine the optimal size tree."
   ]
  },
  {
   "cell_type": "code",
   "execution_count": 21,
   "metadata": {},
   "outputs": [
    {
     "data": {
      "text/plain": [
       "$size\n",
       "[1] 7 6 5 4 3 2 1\n",
       "\n",
       "$dev\n",
       "[1]  718.5719  714.9748  696.4151  728.5338  743.7698  794.4258 1078.6945\n",
       "\n",
       "$k\n",
       "[1]      -Inf  12.29767  14.95455  31.39305  37.32384  67.77637 306.98162\n",
       "\n",
       "$method\n",
       "[1] \"deviance\"\n",
       "\n",
       "attr(,\"class\")\n",
       "[1] \"prune\"         \"tree.sequence\""
      ]
     },
     "metadata": {},
     "output_type": "display_data"
    }
   ],
   "source": [
    "cv.eval = cv.tree(tree.fit, K=20)\n",
    "cv.eval"
   ]
  },
  {
   "cell_type": "markdown",
   "metadata": {},
   "source": [
    "**Comment:**\n",
    "\n",
    "In this case, the tree of size 5 is selected by cross-validation"
   ]
  },
  {
   "cell_type": "markdown",
   "metadata": {},
   "source": [
    "## Task (g)\n",
    "Produce a plot with tree size on the x-axis and cross-validated classification error rate on the y-axis."
   ]
  },
  {
   "cell_type": "code",
   "execution_count": 22,
   "metadata": {},
   "outputs": [
    {
     "data": {
      "image/png": "[encoded data removed]",
      "text/plain": [
       "plot without title"
      ]
     },
     "metadata": {
      "image/png": {
       "height": 420,
       "width": 420
      },
      "text/plain": {
       "height": 420,
       "width": 420
      }
     },
     "output_type": "display_data"
    }
   ],
   "source": [
    "plot(cv.eval$size, cv.eval$dev, type='b', xlab = \"Tree size\", ylab = \"Error rate\")\n",
    "tree.min = which.min(cv.eval$dev)\n",
    "points(cv.eval$size[tree.min], cv.eval$dev[tree.min], col = \"red\", cex = 3, pch = 20)"
   ]
  },
  {
   "cell_type": "markdown",
   "metadata": {},
   "source": [
    "## Task (h)\n",
    "- Which tree size corresponds to the lowest cross-validated classification error rate?\n",
    "\n",
    "**Comment:**\n",
    "\n",
    "Tree of size 5"
   ]
  },
  {
   "cell_type": "markdown",
   "metadata": {},
   "source": [
    "## Task (i)\n",
    "- Produce a pruned tree corresponding to the optimal tree size obtained using cross-validation.\n",
    "- If cross-validation does not lead to selection of a pruned tree, then create a pruned tree with five terminal nodes."
   ]
  },
  {
   "cell_type": "code",
   "execution_count": 23,
   "metadata": {},
   "outputs": [
    {
     "data": {
      "image/png": "[encoded data removed]",
      "text/plain": [
       "plot without title"
      ]
     },
     "metadata": {
      "image/png": {
       "height": 420,
       "width": 420
      },
      "text/plain": {
       "height": 420,
       "width": 420
      }
     },
     "output_type": "display_data"
    }
   ],
   "source": [
    "prune.fit = prune.tree(tree.fit, best = cv.eval$size[tree.min])\n",
    "plot(prune.fit)\n",
    "text(prune.fit, pretty = 0)"
   ]
  },
  {
   "cell_type": "markdown",
   "metadata": {},
   "source": [
    "## Task (j)\n",
    "Compare the training error rates between the pruned and unpruned trees. Which is higher?"
   ]
  },
  {
   "cell_type": "code",
   "execution_count": 24,
   "metadata": {},
   "outputs": [
    {
     "data": {
      "text/plain": [
       "\n",
       "Classification tree:\n",
       "tree(formula = Purchase ~ ., data = train)\n",
       "Variables actually used in tree construction:\n",
       "[1] \"LoyalCH\"       \"SalePriceMM\"   \"ListPriceDiff\" \"DiscCH\"       \n",
       "Number of terminal nodes:  7 \n",
       "Residual mean deviance:  0.7643 = 606.1 / 793 \n",
       "Misclassification error rate: 0.1675 = 134 / 800 "
      ]
     },
     "metadata": {},
     "output_type": "display_data"
    }
   ],
   "source": [
    "summary(tree.fit)"
   ]
  },
  {
   "cell_type": "code",
   "execution_count": 25,
   "metadata": {},
   "outputs": [
    {
     "data": {
      "text/plain": [
       "\n",
       "Classification tree:\n",
       "snip.tree(tree = tree.fit, nodes = c(5L, 12L))\n",
       "Variables actually used in tree construction:\n",
       "[1] \"LoyalCH\"       \"ListPriceDiff\"\n",
       "Number of terminal nodes:  5 \n",
       "Residual mean deviance:  0.7967 = 633.3 / 795 \n",
       "Misclassification error rate: 0.1788 = 143 / 800 "
      ]
     },
     "metadata": {},
     "output_type": "display_data"
    }
   ],
   "source": [
    "summary(prune.fit)"
   ]
  },
  {
   "cell_type": "markdown",
   "metadata": {},
   "source": [
    "**Comment:**\n",
    "\n",
    "The training error rate is slightly higher for the pruned tree (17.88% vs 16.75%)."
   ]
  },
  {
   "cell_type": "markdown",
   "metadata": {},
   "source": [
    "## Task (k)\n",
    "Compare the test error rates between the pruned and unpruned trees. Which is higher ?"
   ]
  },
  {
   "cell_type": "code",
   "execution_count": 26,
   "metadata": {},
   "outputs": [
    {
     "data": {
      "text/plain": [
       "    \n",
       "      CH  MM\n",
       "  CH 130  15\n",
       "  MM  43  82"
      ]
     },
     "metadata": {},
     "output_type": "display_data"
    }
   ],
   "source": [
    "confusion_matrix = table(predict(prune.fit, test, type = \"class\"), test$Purchase)\n",
    "confusion_matrix"
   ]
  },
  {
   "cell_type": "code",
   "execution_count": 27,
   "metadata": {},
   "outputs": [
    {
     "name": "stdout",
     "output_type": "stream",
     "text": [
      "[1] 212\n",
      "[1] 58\n",
      "[1] 0.2148148\n"
     ]
    }
   ],
   "source": [
    "TruePred = confusion_matrix[1, 1] + confusion_matrix [2, 2]\n",
    "FalsePred = confusion_matrix[1, 2] + confusion_matrix [2, 1]\n",
    "print(TruePred)\n",
    "print(FalsePred)\n",
    "print(FalsePred/(TruePred+FalsePred))"
   ]
  },
  {
   "cell_type": "markdown",
   "metadata": {},
   "source": [
    "**Comment:**\n",
    "\n",
    "The test error rate is slightly higher for the pruned tree (21.48%  vs 21.11%)."
   ]
  },
  {
   "cell_type": "markdown",
   "metadata": {},
   "source": [
    "# Exercise 3\n",
    "We now use boosting to predict “Salary” in the “Hitters” data set.\n",
    "## Task (a)\n",
    "Remove the observations for whom the salary information is unknown, and then log-transform the salaries."
   ]
  },
  {
   "cell_type": "code",
   "execution_count": 28,
   "metadata": {},
   "outputs": [
    {
     "data": {
      "text/html": [
       "<table>\n",
       "<caption>A data.frame: 6 × 20</caption>\n",
       "<thead>\n",
       "\t<tr><th></th><th scope=col>AtBat</th><th scope=col>Hits</th><th scope=col>HmRun</th><th scope=col>Runs</th><th scope=col>RBI</th><th scope=col>Walks</th><th scope=col>Years</th><th scope=col>CAtBat</th><th scope=col>CHits</th><th scope=col>CHmRun</th><th scope=col>CRuns</th><th scope=col>CRBI</th><th scope=col>CWalks</th><th scope=col>League</th><th scope=col>Division</th><th scope=col>PutOuts</th><th scope=col>Assists</th><th scope=col>Errors</th><th scope=col>Salary</th><th scope=col>NewLeague</th></tr>\n",
       "\t<tr><th></th><th scope=col>&lt;int&gt;</th><th scope=col>&lt;int&gt;</th><th scope=col>&lt;int&gt;</th><th scope=col>&lt;int&gt;</th><th scope=col>&lt;int&gt;</th><th scope=col>&lt;int&gt;</th><th scope=col>&lt;int&gt;</th><th scope=col>&lt;int&gt;</th><th scope=col>&lt;int&gt;</th><th scope=col>&lt;int&gt;</th><th scope=col>&lt;int&gt;</th><th scope=col>&lt;int&gt;</th><th scope=col>&lt;int&gt;</th><th scope=col>&lt;fct&gt;</th><th scope=col>&lt;fct&gt;</th><th scope=col>&lt;int&gt;</th><th scope=col>&lt;int&gt;</th><th scope=col>&lt;int&gt;</th><th scope=col>&lt;dbl&gt;</th><th scope=col>&lt;fct&gt;</th></tr>\n",
       "</thead>\n",
       "<tbody>\n",
       "\t<tr><th scope=row>-Alan Ashby</th><td>315</td><td> 81</td><td> 7</td><td>24</td><td>38</td><td>39</td><td>14</td><td>3449</td><td> 835</td><td> 69</td><td>321</td><td>414</td><td>375</td><td>N</td><td>W</td><td>632</td><td> 43</td><td>10</td><td>6.163315</td><td>N</td></tr>\n",
       "\t<tr><th scope=row>-Alvin Davis</th><td>479</td><td>130</td><td>18</td><td>66</td><td>72</td><td>76</td><td> 3</td><td>1624</td><td> 457</td><td> 63</td><td>224</td><td>266</td><td>263</td><td>A</td><td>W</td><td>880</td><td> 82</td><td>14</td><td>6.173786</td><td>A</td></tr>\n",
       "\t<tr><th scope=row>-Andre Dawson</th><td>496</td><td>141</td><td>20</td><td>65</td><td>78</td><td>37</td><td>11</td><td>5628</td><td>1575</td><td>225</td><td>828</td><td>838</td><td>354</td><td>N</td><td>E</td><td>200</td><td> 11</td><td> 3</td><td>6.214608</td><td>N</td></tr>\n",
       "\t<tr><th scope=row>-Andres Galarraga</th><td>321</td><td> 87</td><td>10</td><td>39</td><td>42</td><td>30</td><td> 2</td><td> 396</td><td> 101</td><td> 12</td><td> 48</td><td> 46</td><td> 33</td><td>N</td><td>E</td><td>805</td><td> 40</td><td> 4</td><td>4.516339</td><td>N</td></tr>\n",
       "\t<tr><th scope=row>-Alfredo Griffin</th><td>594</td><td>169</td><td> 4</td><td>74</td><td>51</td><td>35</td><td>11</td><td>4408</td><td>1133</td><td> 19</td><td>501</td><td>336</td><td>194</td><td>A</td><td>W</td><td>282</td><td>421</td><td>25</td><td>6.620073</td><td>A</td></tr>\n",
       "\t<tr><th scope=row>-Al Newman</th><td>185</td><td> 37</td><td> 1</td><td>23</td><td> 8</td><td>21</td><td> 2</td><td> 214</td><td>  42</td><td>  1</td><td> 30</td><td>  9</td><td> 24</td><td>N</td><td>E</td><td> 76</td><td>127</td><td> 7</td><td>4.248495</td><td>A</td></tr>\n",
       "</tbody>\n",
       "</table>\n"
      ],
      "text/latex": [
       "A data.frame: 6 × 20\n",
       "\\begin{tabular}{r|llllllllllllllllllll}\n",
       "  & AtBat & Hits & HmRun & Runs & RBI & Walks & Years & CAtBat & CHits & CHmRun & CRuns & CRBI & CWalks & League & Division & PutOuts & Assists & Errors & Salary & NewLeague\\\\\n",
       "  & <int> & <int> & <int> & <int> & <int> & <int> & <int> & <int> & <int> & <int> & <int> & <int> & <int> & <fct> & <fct> & <int> & <int> & <int> & <dbl> & <fct>\\\\\n",
       "\\hline\n",
       "\t-Alan Ashby & 315 &  81 &  7 & 24 & 38 & 39 & 14 & 3449 &  835 &  69 & 321 & 414 & 375 & N & W & 632 &  43 & 10 & 6.163315 & N\\\\\n",
       "\t-Alvin Davis & 479 & 130 & 18 & 66 & 72 & 76 &  3 & 1624 &  457 &  63 & 224 & 266 & 263 & A & W & 880 &  82 & 14 & 6.173786 & A\\\\\n",
       "\t-Andre Dawson & 496 & 141 & 20 & 65 & 78 & 37 & 11 & 5628 & 1575 & 225 & 828 & 838 & 354 & N & E & 200 &  11 &  3 & 6.214608 & N\\\\\n",
       "\t-Andres Galarraga & 321 &  87 & 10 & 39 & 42 & 30 &  2 &  396 &  101 &  12 &  48 &  46 &  33 & N & E & 805 &  40 &  4 & 4.516339 & N\\\\\n",
       "\t-Alfredo Griffin & 594 & 169 &  4 & 74 & 51 & 35 & 11 & 4408 & 1133 &  19 & 501 & 336 & 194 & A & W & 282 & 421 & 25 & 6.620073 & A\\\\\n",
       "\t-Al Newman & 185 &  37 &  1 & 23 &  8 & 21 &  2 &  214 &   42 &   1 &  30 &   9 &  24 & N & E &  76 & 127 &  7 & 4.248495 & A\\\\\n",
       "\\end{tabular}\n"
      ],
      "text/markdown": [
       "\n",
       "A data.frame: 6 × 20\n",
       "\n",
       "| <!--/--> | AtBat &lt;int&gt; | Hits &lt;int&gt; | HmRun &lt;int&gt; | Runs &lt;int&gt; | RBI &lt;int&gt; | Walks &lt;int&gt; | Years &lt;int&gt; | CAtBat &lt;int&gt; | CHits &lt;int&gt; | CHmRun &lt;int&gt; | CRuns &lt;int&gt; | CRBI &lt;int&gt; | CWalks &lt;int&gt; | League &lt;fct&gt; | Division &lt;fct&gt; | PutOuts &lt;int&gt; | Assists &lt;int&gt; | Errors &lt;int&gt; | Salary &lt;dbl&gt; | NewLeague &lt;fct&gt; |\n",
       "|---|---|---|---|---|---|---|---|---|---|---|---|---|---|---|---|---|---|---|---|---|\n",
       "| -Alan Ashby | 315 |  81 |  7 | 24 | 38 | 39 | 14 | 3449 |  835 |  69 | 321 | 414 | 375 | N | W | 632 |  43 | 10 | 6.163315 | N |\n",
       "| -Alvin Davis | 479 | 130 | 18 | 66 | 72 | 76 |  3 | 1624 |  457 |  63 | 224 | 266 | 263 | A | W | 880 |  82 | 14 | 6.173786 | A |\n",
       "| -Andre Dawson | 496 | 141 | 20 | 65 | 78 | 37 | 11 | 5628 | 1575 | 225 | 828 | 838 | 354 | N | E | 200 |  11 |  3 | 6.214608 | N |\n",
       "| -Andres Galarraga | 321 |  87 | 10 | 39 | 42 | 30 |  2 |  396 |  101 |  12 |  48 |  46 |  33 | N | E | 805 |  40 |  4 | 4.516339 | N |\n",
       "| -Alfredo Griffin | 594 | 169 |  4 | 74 | 51 | 35 | 11 | 4408 | 1133 |  19 | 501 | 336 | 194 | A | W | 282 | 421 | 25 | 6.620073 | A |\n",
       "| -Al Newman | 185 |  37 |  1 | 23 |  8 | 21 |  2 |  214 |   42 |   1 |  30 |   9 |  24 | N | E |  76 | 127 |  7 | 4.248495 | A |\n",
       "\n"
      ],
      "text/plain": [
       "                  AtBat Hits HmRun Runs RBI Walks Years CAtBat CHits CHmRun\n",
       "-Alan Ashby       315    81   7    24   38  39    14    3449    835   69   \n",
       "-Alvin Davis      479   130  18    66   72  76     3    1624    457   63   \n",
       "-Andre Dawson     496   141  20    65   78  37    11    5628   1575  225   \n",
       "-Andres Galarraga 321    87  10    39   42  30     2     396    101   12   \n",
       "-Alfredo Griffin  594   169   4    74   51  35    11    4408   1133   19   \n",
       "-Al Newman        185    37   1    23    8  21     2     214     42    1   \n",
       "                  CRuns CRBI CWalks League Division PutOuts Assists Errors\n",
       "-Alan Ashby       321   414  375    N      W        632      43     10    \n",
       "-Alvin Davis      224   266  263    A      W        880      82     14    \n",
       "-Andre Dawson     828   838  354    N      E        200      11      3    \n",
       "-Andres Galarraga  48    46   33    N      E        805      40      4    \n",
       "-Alfredo Griffin  501   336  194    A      W        282     421     25    \n",
       "-Al Newman         30     9   24    N      E         76     127      7    \n",
       "                  Salary   NewLeague\n",
       "-Alan Ashby       6.163315 N        \n",
       "-Alvin Davis      6.173786 A        \n",
       "-Andre Dawson     6.214608 N        \n",
       "-Andres Galarraga 4.516339 N        \n",
       "-Alfredo Griffin  6.620073 A        \n",
       "-Al Newman        4.248495 A        "
      ]
     },
     "metadata": {},
     "output_type": "display_data"
    }
   ],
   "source": [
    "Hitters = na.omit(Hitters)\n",
    "Hitters$Salary = log(Hitters$Salary)\n",
    "head(Hitters)"
   ]
  },
  {
   "cell_type": "markdown",
   "metadata": {},
   "source": [
    "## Task (b)\n",
    "Create a training set consisting of the first 200 observations, and a test set consisting of the remaining observations."
   ]
  },
  {
   "cell_type": "code",
   "execution_count": 29,
   "metadata": {},
   "outputs": [
    {
     "data": {
      "text/html": [
       "<style>\n",
       ".list-inline {list-style: none; margin:0; padding: 0}\n",
       ".list-inline>li {display: inline-block}\n",
       ".list-inline>li:not(:last-child)::after {content: \"\\00b7\"; padding: 0 .5ex}\n",
       "</style>\n",
       "<ol class=list-inline><li>200</li><li>20</li></ol>\n"
      ],
      "text/latex": [
       "\\begin{enumerate*}\n",
       "\\item 200\n",
       "\\item 20\n",
       "\\end{enumerate*}\n"
      ],
      "text/markdown": [
       "1. 200\n",
       "2. 20\n",
       "\n",
       "\n"
      ],
      "text/plain": [
       "[1] 200  20"
      ]
     },
     "metadata": {},
     "output_type": "display_data"
    },
    {
     "data": {
      "text/html": [
       "<style>\n",
       ".list-inline {list-style: none; margin:0; padding: 0}\n",
       ".list-inline>li {display: inline-block}\n",
       ".list-inline>li:not(:last-child)::after {content: \"\\00b7\"; padding: 0 .5ex}\n",
       "</style>\n",
       "<ol class=list-inline><li>63</li><li>20</li></ol>\n"
      ],
      "text/latex": [
       "\\begin{enumerate*}\n",
       "\\item 63\n",
       "\\item 20\n",
       "\\end{enumerate*}\n"
      ],
      "text/markdown": [
       "1. 63\n",
       "2. 20\n",
       "\n",
       "\n"
      ],
      "text/plain": [
       "[1] 63 20"
      ]
     },
     "metadata": {},
     "output_type": "display_data"
    }
   ],
   "source": [
    "train = Hitters[1:200,]\n",
    "test = Hitters[-(1:200),]\n",
    "dim(train)\n",
    "dim(test)"
   ]
  },
  {
   "cell_type": "markdown",
   "metadata": {},
   "source": [
    "## Task (c)\n",
    "Perform boosting on the training set with 1000 trees for a range of values of the shrinkage parameter λ. Produce a plot with different shrinkage values on the x-axis and the corresponding training set MSE on the y-axis."
   ]
  },
  {
   "cell_type": "code",
   "execution_count": 30,
   "metadata": {},
   "outputs": [
    {
     "name": "stderr",
     "output_type": "stream",
     "text": [
      "Loaded gbm 2.1.5\n",
      "\n"
     ]
    },
    {
     "data": {
      "image/png": "[encoded data removed]",
      "text/plain": [
       "plot without title"
      ]
     },
     "metadata": {
      "image/png": {
       "height": 420,
       "width": 420
      },
      "text/plain": {
       "height": 420,
       "width": 420
      }
     },
     "output_type": "display_data"
    }
   ],
   "source": [
    "library(gbm)\n",
    "set.seed(1998)\n",
    "\n",
    "pows = seq(-10, -0.2, by = 0.1)\n",
    "lambdas = 10^pows\n",
    "train.err = rep(NA, length(lambdas))\n",
    "for (i in 1:length(lambdas)) {\n",
    "    boost.hitters = gbm(Salary ~ ., data = train, distribution = \"gaussian\", n.trees = 1000, shrinkage = lambdas[i])\n",
    "    # Training MSE:\n",
    "    train.err[i] <- mean((predict(boost.hitters, train, n.trees = 1000) - train$Salary)^2)\n",
    "}\n",
    "plot(lambdas, train.err, type = \"b\", xlab = \"Shrinkage values\", ylab = \"Training MSE\")"
   ]
  },
  {
   "cell_type": "markdown",
   "metadata": {},
   "source": [
    "## Task (d)\n",
    "Produce a plot with different shrinkage values on the x-axis and the corresponding test set MSE on the y-axis."
   ]
  },
  {
   "cell_type": "code",
   "execution_count": 31,
   "metadata": {},
   "outputs": [
    {
     "data": {
      "image/png": "[encoded data removed]",
      "text/plain": [
       "plot without title"
      ]
     },
     "metadata": {
      "image/png": {
       "height": 420,
       "width": 420
      },
      "text/plain": {
       "height": 420,
       "width": 420
      }
     },
     "output_type": "display_data"
    }
   ],
   "source": [
    "set.seed(1998)\n",
    "\n",
    "test.err = rep(NA, length(lambdas))\n",
    "for (i in 1:length(lambdas)) {\n",
    "    boost.hitters = gbm(Salary ~ ., data = train, distribution = \"gaussian\", n.trees = 1000, shrinkage = lambdas[i])\n",
    "    # Test MSE:\n",
    "    test.err[i] = mean((predict(boost.hitters, test, n.trees = 1000) - test$Salary)^2)\n",
    "}\n",
    "plot(lambdas, test.err, type = \"b\", xlab = \"Shrinkage values\", ylab = \"Test MSE\")"
   ]
  },
  {
   "cell_type": "code",
   "execution_count": 32,
   "metadata": {},
   "outputs": [
    {
     "data": {
      "text/html": [
       "0.25764723227998"
      ],
      "text/latex": [
       "0.25764723227998"
      ],
      "text/markdown": [
       "0.25764723227998"
      ],
      "text/plain": [
       "[1] 0.2576472"
      ]
     },
     "metadata": {},
     "output_type": "display_data"
    },
    {
     "data": {
      "text/html": [
       "0.0501187233627274"
      ],
      "text/latex": [
       "0.0501187233627274"
      ],
      "text/markdown": [
       "0.0501187233627274"
      ],
      "text/plain": [
       "[1] 0.05011872"
      ]
     },
     "metadata": {},
     "output_type": "display_data"
    }
   ],
   "source": [
    "min(test.err)\n",
    "lambdas[which.min(test.err)]"
   ]
  },
  {
   "cell_type": "markdown",
   "metadata": {},
   "source": [
    "**Comment:**\n",
    "The minimum test MSE is 0.258, and is obtained for λ=0.05."
   ]
  },
  {
   "cell_type": "markdown",
   "metadata": {},
   "source": [
    "## Task (e)\n",
    "Compare the test MSE of boosting to the test MSE that results from applying two of the regression approaches seen in Chapters 3 and 6."
   ]
  },
  {
   "cell_type": "code",
   "execution_count": 33,
   "metadata": {},
   "outputs": [
    {
     "data": {
      "text/html": [
       "0.491795937545494"
      ],
      "text/latex": [
       "0.491795937545494"
      ],
      "text/markdown": [
       "0.491795937545494"
      ],
      "text/plain": [
       "[1] 0.4917959"
      ]
     },
     "metadata": {},
     "output_type": "display_data"
    }
   ],
   "source": [
    "# Linear regression\n",
    "lm.fit = lm(Salary ~ ., data = train)\n",
    "mean((predict(lm.fit, test) - test$Salary)^2)"
   ]
  },
  {
   "cell_type": "markdown",
   "metadata": {},
   "source": [
    "**Comment:**\n",
    "The test MSE for boosting is lower than for linear regression."
   ]
  },
  {
   "cell_type": "markdown",
   "metadata": {},
   "source": [
    "## Task (f)\n",
    "Which variables appear to be the most important predictors in the boosted model?"
   ]
  },
  {
   "cell_type": "code",
   "execution_count": 34,
   "metadata": {},
   "outputs": [
    {
     "data": {
      "text/html": [
       "<table>\n",
       "<caption>A data.frame: 19 × 2</caption>\n",
       "<thead>\n",
       "\t<tr><th></th><th scope=col>var</th><th scope=col>rel.inf</th></tr>\n",
       "\t<tr><th></th><th scope=col>&lt;fct&gt;</th><th scope=col>&lt;dbl&gt;</th></tr>\n",
       "</thead>\n",
       "<tbody>\n",
       "\t<tr><th scope=row>CAtBat</th><td>CAtBat   </td><td>24.3942209</td></tr>\n",
       "\t<tr><th scope=row>CRBI</th><td>CRBI     </td><td> 9.1576886</td></tr>\n",
       "\t<tr><th scope=row>CWalks</th><td>CWalks   </td><td> 7.7358249</td></tr>\n",
       "\t<tr><th scope=row>CRuns</th><td>CRuns    </td><td> 7.5975034</td></tr>\n",
       "\t<tr><th scope=row>Years</th><td>Years    </td><td> 6.9322986</td></tr>\n",
       "\t<tr><th scope=row>PutOuts</th><td>PutOuts  </td><td> 6.5139719</td></tr>\n",
       "\t<tr><th scope=row>CHmRun</th><td>CHmRun   </td><td> 5.5797847</td></tr>\n",
       "\t<tr><th scope=row>RBI</th><td>RBI      </td><td> 5.3895928</td></tr>\n",
       "\t<tr><th scope=row>Walks</th><td>Walks    </td><td> 5.2948876</td></tr>\n",
       "\t<tr><th scope=row>AtBat</th><td>AtBat    </td><td> 3.5599025</td></tr>\n",
       "\t<tr><th scope=row>Assists</th><td>Assists  </td><td> 3.3802525</td></tr>\n",
       "\t<tr><th scope=row>Hits</th><td>Hits     </td><td> 3.1784369</td></tr>\n",
       "\t<tr><th scope=row>HmRun</th><td>HmRun    </td><td> 2.8333900</td></tr>\n",
       "\t<tr><th scope=row>Runs</th><td>Runs     </td><td> 2.4950304</td></tr>\n",
       "\t<tr><th scope=row>CHits</th><td>CHits    </td><td> 2.2796258</td></tr>\n",
       "\t<tr><th scope=row>Errors</th><td>Errors   </td><td> 2.1780050</td></tr>\n",
       "\t<tr><th scope=row>Division</th><td>Division </td><td> 0.7025094</td></tr>\n",
       "\t<tr><th scope=row>NewLeague</th><td>NewLeague</td><td> 0.6841956</td></tr>\n",
       "\t<tr><th scope=row>League</th><td>League   </td><td> 0.1128785</td></tr>\n",
       "</tbody>\n",
       "</table>\n"
      ],
      "text/latex": [
       "A data.frame: 19 × 2\n",
       "\\begin{tabular}{r|ll}\n",
       "  & var & rel.inf\\\\\n",
       "  & <fct> & <dbl>\\\\\n",
       "\\hline\n",
       "\tCAtBat & CAtBat    & 24.3942209\\\\\n",
       "\tCRBI & CRBI      &  9.1576886\\\\\n",
       "\tCWalks & CWalks    &  7.7358249\\\\\n",
       "\tCRuns & CRuns     &  7.5975034\\\\\n",
       "\tYears & Years     &  6.9322986\\\\\n",
       "\tPutOuts & PutOuts   &  6.5139719\\\\\n",
       "\tCHmRun & CHmRun    &  5.5797847\\\\\n",
       "\tRBI & RBI       &  5.3895928\\\\\n",
       "\tWalks & Walks     &  5.2948876\\\\\n",
       "\tAtBat & AtBat     &  3.5599025\\\\\n",
       "\tAssists & Assists   &  3.3802525\\\\\n",
       "\tHits & Hits      &  3.1784369\\\\\n",
       "\tHmRun & HmRun     &  2.8333900\\\\\n",
       "\tRuns & Runs      &  2.4950304\\\\\n",
       "\tCHits & CHits     &  2.2796258\\\\\n",
       "\tErrors & Errors    &  2.1780050\\\\\n",
       "\tDivision & Division  &  0.7025094\\\\\n",
       "\tNewLeague & NewLeague &  0.6841956\\\\\n",
       "\tLeague & League    &  0.1128785\\\\\n",
       "\\end{tabular}\n"
      ],
      "text/markdown": [
       "\n",
       "A data.frame: 19 × 2\n",
       "\n",
       "| <!--/--> | var &lt;fct&gt; | rel.inf &lt;dbl&gt; |\n",
       "|---|---|---|\n",
       "| CAtBat | CAtBat    | 24.3942209 |\n",
       "| CRBI | CRBI      |  9.1576886 |\n",
       "| CWalks | CWalks    |  7.7358249 |\n",
       "| CRuns | CRuns     |  7.5975034 |\n",
       "| Years | Years     |  6.9322986 |\n",
       "| PutOuts | PutOuts   |  6.5139719 |\n",
       "| CHmRun | CHmRun    |  5.5797847 |\n",
       "| RBI | RBI       |  5.3895928 |\n",
       "| Walks | Walks     |  5.2948876 |\n",
       "| AtBat | AtBat     |  3.5599025 |\n",
       "| Assists | Assists   |  3.3802525 |\n",
       "| Hits | Hits      |  3.1784369 |\n",
       "| HmRun | HmRun     |  2.8333900 |\n",
       "| Runs | Runs      |  2.4950304 |\n",
       "| CHits | CHits     |  2.2796258 |\n",
       "| Errors | Errors    |  2.1780050 |\n",
       "| Division | Division  |  0.7025094 |\n",
       "| NewLeague | NewLeague |  0.6841956 |\n",
       "| League | League    |  0.1128785 |\n",
       "\n"
      ],
      "text/plain": [
       "          var       rel.inf   \n",
       "CAtBat    CAtBat    24.3942209\n",
       "CRBI      CRBI       9.1576886\n",
       "CWalks    CWalks     7.7358249\n",
       "CRuns     CRuns      7.5975034\n",
       "Years     Years      6.9322986\n",
       "PutOuts   PutOuts    6.5139719\n",
       "CHmRun    CHmRun     5.5797847\n",
       "RBI       RBI        5.3895928\n",
       "Walks     Walks      5.2948876\n",
       "AtBat     AtBat      3.5599025\n",
       "Assists   Assists    3.3802525\n",
       "Hits      Hits       3.1784369\n",
       "HmRun     HmRun      2.8333900\n",
       "Runs      Runs       2.4950304\n",
       "CHits     CHits      2.2796258\n",
       "Errors    Errors     2.1780050\n",
       "Division  Division   0.7025094\n",
       "NewLeague NewLeague  0.6841956\n",
       "League    League     0.1128785"
      ]
     },
     "metadata": {},
     "output_type": "display_data"
    },
    {
     "data": {
      "image/png": "[encoded data removed]",
      "text/plain": [
       "plot without title"
      ]
     },
     "metadata": {
      "image/png": {
       "height": 420,
       "width": 420
      },
      "text/plain": {
       "height": 420,
       "width": 420
      }
     },
     "output_type": "display_data"
    }
   ],
   "source": [
    "boost.hitters = gbm(Salary ~ ., data = train, distribution = \"gaussian\", n.trees = 1000, shrinkage = lambdas[which.min(test.err)])\n",
    "summary(boost.hitters)"
   ]
  },
  {
   "cell_type": "markdown",
   "metadata": {},
   "source": [
    "**Comment:**\n",
    "CAtBat is most important variable, followed by CRBI, CWalks, CRuns, etc.\n"
   ]
  },
  {
   "cell_type": "markdown",
   "metadata": {},
   "source": [
    "## Task (g)\n",
    "Now apply bagging to the training set. What is the test set MSE for this approach ?"
   ]
  },
  {
   "cell_type": "code",
   "execution_count": 35,
   "metadata": {},
   "outputs": [
    {
     "data": {
      "text/html": [
       "0.232083635044431"
      ],
      "text/latex": [
       "0.232083635044431"
      ],
      "text/markdown": [
       "0.232083635044431"
      ],
      "text/plain": [
       "[1] 0.2320836"
      ]
     },
     "metadata": {},
     "output_type": "display_data"
    }
   ],
   "source": [
    "set.seed(1998)\n",
    "bag.hitters = randomForest(Salary ~ ., data = train, mtry = 19, ntree = 500)\n",
    "mean((predict(bag.hitters, newdata = test) - test$Salary)^2)"
   ]
  },
  {
   "cell_type": "markdown",
   "metadata": {},
   "source": [
    "**Comment:**\n",
    "Test MSE for bagging is 0.23, which is slightly lower than test MSE for boosting."
   ]
  },
  {
   "cell_type": "markdown",
   "metadata": {},
   "source": [
    "# Exercise 4\n",
    "This question uses the “Caravan” data set."
   ]
  },
  {
   "cell_type": "markdown",
   "metadata": {},
   "source": [
    "## Task (a)\n",
    "Create a training set consisting of the first 1000 observations, and a test set consisting of the remaining observations."
   ]
  },
  {
   "cell_type": "code",
   "execution_count": 36,
   "metadata": {},
   "outputs": [
    {
     "data": {
      "text/html": [
       "<style>\n",
       ".list-inline {list-style: none; margin:0; padding: 0}\n",
       ".list-inline>li {display: inline-block}\n",
       ".list-inline>li:not(:last-child)::after {content: \"\\00b7\"; padding: 0 .5ex}\n",
       "</style>\n",
       "<ol class=list-inline><li>1000</li><li>86</li></ol>\n"
      ],
      "text/latex": [
       "\\begin{enumerate*}\n",
       "\\item 1000\n",
       "\\item 86\n",
       "\\end{enumerate*}\n"
      ],
      "text/markdown": [
       "1. 1000\n",
       "2. 86\n",
       "\n",
       "\n"
      ],
      "text/plain": [
       "[1] 1000   86"
      ]
     },
     "metadata": {},
     "output_type": "display_data"
    },
    {
     "data": {
      "text/html": [
       "<style>\n",
       ".list-inline {list-style: none; margin:0; padding: 0}\n",
       ".list-inline>li {display: inline-block}\n",
       ".list-inline>li:not(:last-child)::after {content: \"\\00b7\"; padding: 0 .5ex}\n",
       "</style>\n",
       "<ol class=list-inline><li>4822</li><li>86</li></ol>\n"
      ],
      "text/latex": [
       "\\begin{enumerate*}\n",
       "\\item 4822\n",
       "\\item 86\n",
       "\\end{enumerate*}\n"
      ],
      "text/markdown": [
       "1. 4822\n",
       "2. 86\n",
       "\n",
       "\n"
      ],
      "text/plain": [
       "[1] 4822   86"
      ]
     },
     "metadata": {},
     "output_type": "display_data"
    }
   ],
   "source": [
    "Caravan$Purchase = ifelse(Caravan$Purchase == \"Yes\", 1, 0)\n",
    "train = Caravan[(1:1000),]\n",
    "test = Caravan[-(1:1000),]\n",
    "dim(train)\n",
    "dim(test)"
   ]
  },
  {
   "cell_type": "markdown",
   "metadata": {},
   "source": [
    "## Task (b)\n",
    "Fit a boosting model to the training set with “Purchase” as the response and the other variables as predictors. Use 1000 trees, and a shrinkage value of 0.01. Which predictors appear to be most important ?"
   ]
  },
  {
   "cell_type": "code",
   "execution_count": 37,
   "metadata": {},
   "outputs": [
    {
     "name": "stderr",
     "output_type": "stream",
     "text": [
      "Warning message in gbm.fit(x = x, y = y, offset = offset, distribution = distribution, :\n",
      "\"variable 50: PVRAAUT has no variation.\"\n",
      "Warning message in gbm.fit(x = x, y = y, offset = offset, distribution = distribution, :\n",
      "\"variable 71: AVRAAUT has no variation.\"\n"
     ]
    },
    {
     "data": {
      "text/html": [
       "<table>\n",
       "<caption>A data.frame: 85 × 2</caption>\n",
       "<thead>\n",
       "\t<tr><th></th><th scope=col>var</th><th scope=col>rel.inf</th></tr>\n",
       "\t<tr><th></th><th scope=col>&lt;fct&gt;</th><th scope=col>&lt;dbl&gt;</th></tr>\n",
       "</thead>\n",
       "<tbody>\n",
       "\t<tr><th scope=row>PPERSAUT</th><td>PPERSAUT</td><td>13.8894581</td></tr>\n",
       "\t<tr><th scope=row>MKOOPKLA</th><td>MKOOPKLA</td><td> 9.9278724</td></tr>\n",
       "\t<tr><th scope=row>MOPLHOOG</th><td>MOPLHOOG</td><td> 7.6486640</td></tr>\n",
       "\t<tr><th scope=row>MBERMIDD</th><td>MBERMIDD</td><td> 5.7522747</td></tr>\n",
       "\t<tr><th scope=row>PBRAND</th><td>PBRAND  </td><td> 5.6868878</td></tr>\n",
       "\t<tr><th scope=row>ABRAND</th><td>ABRAND  </td><td> 4.7798948</td></tr>\n",
       "\t<tr><th scope=row>MGODGE</th><td>MGODGE  </td><td> 4.5660974</td></tr>\n",
       "\t<tr><th scope=row>MINK3045</th><td>MINK3045</td><td> 4.0037420</td></tr>\n",
       "\t<tr><th scope=row>PWAPART</th><td>PWAPART </td><td> 3.2230558</td></tr>\n",
       "\t<tr><th scope=row>MOSTYPE</th><td>MOSTYPE </td><td> 2.9287735</td></tr>\n",
       "\t<tr><th scope=row>MAUT2</th><td>MAUT2   </td><td> 2.7696251</td></tr>\n",
       "\t<tr><th scope=row>MSKA</th><td>MSKA    </td><td> 2.2568037</td></tr>\n",
       "\t<tr><th scope=row>MGODPR</th><td>MGODPR  </td><td> 2.1341475</td></tr>\n",
       "\t<tr><th scope=row>MAUT1</th><td>MAUT1   </td><td> 1.7947875</td></tr>\n",
       "\t<tr><th scope=row>MSKC</th><td>MSKC    </td><td> 1.7638935</td></tr>\n",
       "\t<tr><th scope=row>PBYSTAND</th><td>PBYSTAND</td><td> 1.6876553</td></tr>\n",
       "\t<tr><th scope=row>MBERARBG</th><td>MBERARBG</td><td> 1.6551313</td></tr>\n",
       "\t<tr><th scope=row>MGODOV</th><td>MGODOV  </td><td> 1.5347927</td></tr>\n",
       "\t<tr><th scope=row>MRELOV</th><td>MRELOV  </td><td> 1.5275225</td></tr>\n",
       "\t<tr><th scope=row>MINKGEM</th><td>MINKGEM </td><td> 1.4870418</td></tr>\n",
       "\t<tr><th scope=row>MSKB1</th><td>MSKB1   </td><td> 1.4868670</td></tr>\n",
       "\t<tr><th scope=row>MFWEKIND</th><td>MFWEKIND</td><td> 1.3190079</td></tr>\n",
       "\t<tr><th scope=row>MBERHOOG</th><td>MBERHOOG</td><td> 1.2188664</td></tr>\n",
       "\t<tr><th scope=row>MGODRK</th><td>MGODRK  </td><td> 1.1645459</td></tr>\n",
       "\t<tr><th scope=row>MRELGE</th><td>MRELGE  </td><td> 1.1494988</td></tr>\n",
       "\t<tr><th scope=row>MFGEKIND</th><td>MFGEKIND</td><td> 1.1082166</td></tr>\n",
       "\t<tr><th scope=row>MINK7512</th><td>MINK7512</td><td> 0.8631456</td></tr>\n",
       "\t<tr><th scope=row>MHHUUR</th><td>MHHUUR  </td><td> 0.8277262</td></tr>\n",
       "\t<tr><th scope=row>MOPLMIDD</th><td>MOPLMIDD</td><td> 0.8117272</td></tr>\n",
       "\t<tr><th scope=row>MBERBOER</th><td>MBERBOER</td><td> 0.7694973</td></tr>\n",
       "\t<tr><th scope=row>...</th><td>...</td><td>...</td></tr>\n",
       "\t<tr><th scope=row>PAANHANG</th><td>PAANHANG</td><td>0</td></tr>\n",
       "\t<tr><th scope=row>PTRACTOR</th><td>PTRACTOR</td><td>0</td></tr>\n",
       "\t<tr><th scope=row>PWERKT</th><td>PWERKT  </td><td>0</td></tr>\n",
       "\t<tr><th scope=row>PBROM</th><td>PBROM   </td><td>0</td></tr>\n",
       "\t<tr><th scope=row>PPERSONG</th><td>PPERSONG</td><td>0</td></tr>\n",
       "\t<tr><th scope=row>PGEZONG</th><td>PGEZONG </td><td>0</td></tr>\n",
       "\t<tr><th scope=row>PWAOREG</th><td>PWAOREG </td><td>0</td></tr>\n",
       "\t<tr><th scope=row>PZEILPL</th><td>PZEILPL </td><td>0</td></tr>\n",
       "\t<tr><th scope=row>PPLEZIER</th><td>PPLEZIER</td><td>0</td></tr>\n",
       "\t<tr><th scope=row>PFIETS</th><td>PFIETS  </td><td>0</td></tr>\n",
       "\t<tr><th scope=row>PINBOED</th><td>PINBOED </td><td>0</td></tr>\n",
       "\t<tr><th scope=row>AWAPART</th><td>AWAPART </td><td>0</td></tr>\n",
       "\t<tr><th scope=row>AWABEDR</th><td>AWABEDR </td><td>0</td></tr>\n",
       "\t<tr><th scope=row>AWALAND</th><td>AWALAND </td><td>0</td></tr>\n",
       "\t<tr><th scope=row>ABESAUT</th><td>ABESAUT </td><td>0</td></tr>\n",
       "\t<tr><th scope=row>AMOTSCO</th><td>AMOTSCO </td><td>0</td></tr>\n",
       "\t<tr><th scope=row>AVRAAUT</th><td>AVRAAUT </td><td>0</td></tr>\n",
       "\t<tr><th scope=row>AAANHANG</th><td>AAANHANG</td><td>0</td></tr>\n",
       "\t<tr><th scope=row>ATRACTOR</th><td>ATRACTOR</td><td>0</td></tr>\n",
       "\t<tr><th scope=row>AWERKT</th><td>AWERKT  </td><td>0</td></tr>\n",
       "\t<tr><th scope=row>ABROM</th><td>ABROM   </td><td>0</td></tr>\n",
       "\t<tr><th scope=row>ALEVEN</th><td>ALEVEN  </td><td>0</td></tr>\n",
       "\t<tr><th scope=row>APERSONG</th><td>APERSONG</td><td>0</td></tr>\n",
       "\t<tr><th scope=row>AGEZONG</th><td>AGEZONG </td><td>0</td></tr>\n",
       "\t<tr><th scope=row>AWAOREG</th><td>AWAOREG </td><td>0</td></tr>\n",
       "\t<tr><th scope=row>AZEILPL</th><td>AZEILPL </td><td>0</td></tr>\n",
       "\t<tr><th scope=row>APLEZIER</th><td>APLEZIER</td><td>0</td></tr>\n",
       "\t<tr><th scope=row>AFIETS</th><td>AFIETS  </td><td>0</td></tr>\n",
       "\t<tr><th scope=row>AINBOED</th><td>AINBOED </td><td>0</td></tr>\n",
       "\t<tr><th scope=row>ABYSTAND</th><td>ABYSTAND</td><td>0</td></tr>\n",
       "</tbody>\n",
       "</table>\n"
      ],
      "text/latex": [
       "A data.frame: 85 × 2\n",
       "\\begin{tabular}{r|ll}\n",
       "  & var & rel.inf\\\\\n",
       "  & <fct> & <dbl>\\\\\n",
       "\\hline\n",
       "\tPPERSAUT & PPERSAUT & 13.8894581\\\\\n",
       "\tMKOOPKLA & MKOOPKLA &  9.9278724\\\\\n",
       "\tMOPLHOOG & MOPLHOOG &  7.6486640\\\\\n",
       "\tMBERMIDD & MBERMIDD &  5.7522747\\\\\n",
       "\tPBRAND & PBRAND   &  5.6868878\\\\\n",
       "\tABRAND & ABRAND   &  4.7798948\\\\\n",
       "\tMGODGE & MGODGE   &  4.5660974\\\\\n",
       "\tMINK3045 & MINK3045 &  4.0037420\\\\\n",
       "\tPWAPART & PWAPART  &  3.2230558\\\\\n",
       "\tMOSTYPE & MOSTYPE  &  2.9287735\\\\\n",
       "\tMAUT2 & MAUT2    &  2.7696251\\\\\n",
       "\tMSKA & MSKA     &  2.2568037\\\\\n",
       "\tMGODPR & MGODPR   &  2.1341475\\\\\n",
       "\tMAUT1 & MAUT1    &  1.7947875\\\\\n",
       "\tMSKC & MSKC     &  1.7638935\\\\\n",
       "\tPBYSTAND & PBYSTAND &  1.6876553\\\\\n",
       "\tMBERARBG & MBERARBG &  1.6551313\\\\\n",
       "\tMGODOV & MGODOV   &  1.5347927\\\\\n",
       "\tMRELOV & MRELOV   &  1.5275225\\\\\n",
       "\tMINKGEM & MINKGEM  &  1.4870418\\\\\n",
       "\tMSKB1 & MSKB1    &  1.4868670\\\\\n",
       "\tMFWEKIND & MFWEKIND &  1.3190079\\\\\n",
       "\tMBERHOOG & MBERHOOG &  1.2188664\\\\\n",
       "\tMGODRK & MGODRK   &  1.1645459\\\\\n",
       "\tMRELGE & MRELGE   &  1.1494988\\\\\n",
       "\tMFGEKIND & MFGEKIND &  1.1082166\\\\\n",
       "\tMINK7512 & MINK7512 &  0.8631456\\\\\n",
       "\tMHHUUR & MHHUUR   &  0.8277262\\\\\n",
       "\tMOPLMIDD & MOPLMIDD &  0.8117272\\\\\n",
       "\tMBERBOER & MBERBOER &  0.7694973\\\\\n",
       "\t... & ... & ...\\\\\n",
       "\tPAANHANG & PAANHANG & 0\\\\\n",
       "\tPTRACTOR & PTRACTOR & 0\\\\\n",
       "\tPWERKT & PWERKT   & 0\\\\\n",
       "\tPBROM & PBROM    & 0\\\\\n",
       "\tPPERSONG & PPERSONG & 0\\\\\n",
       "\tPGEZONG & PGEZONG  & 0\\\\\n",
       "\tPWAOREG & PWAOREG  & 0\\\\\n",
       "\tPZEILPL & PZEILPL  & 0\\\\\n",
       "\tPPLEZIER & PPLEZIER & 0\\\\\n",
       "\tPFIETS & PFIETS   & 0\\\\\n",
       "\tPINBOED & PINBOED  & 0\\\\\n",
       "\tAWAPART & AWAPART  & 0\\\\\n",
       "\tAWABEDR & AWABEDR  & 0\\\\\n",
       "\tAWALAND & AWALAND  & 0\\\\\n",
       "\tABESAUT & ABESAUT  & 0\\\\\n",
       "\tAMOTSCO & AMOTSCO  & 0\\\\\n",
       "\tAVRAAUT & AVRAAUT  & 0\\\\\n",
       "\tAAANHANG & AAANHANG & 0\\\\\n",
       "\tATRACTOR & ATRACTOR & 0\\\\\n",
       "\tAWERKT & AWERKT   & 0\\\\\n",
       "\tABROM & ABROM    & 0\\\\\n",
       "\tALEVEN & ALEVEN   & 0\\\\\n",
       "\tAPERSONG & APERSONG & 0\\\\\n",
       "\tAGEZONG & AGEZONG  & 0\\\\\n",
       "\tAWAOREG & AWAOREG  & 0\\\\\n",
       "\tAZEILPL & AZEILPL  & 0\\\\\n",
       "\tAPLEZIER & APLEZIER & 0\\\\\n",
       "\tAFIETS & AFIETS   & 0\\\\\n",
       "\tAINBOED & AINBOED  & 0\\\\\n",
       "\tABYSTAND & ABYSTAND & 0\\\\\n",
       "\\end{tabular}\n"
      ],
      "text/markdown": [
       "\n",
       "A data.frame: 85 × 2\n",
       "\n",
       "| <!--/--> | var &lt;fct&gt; | rel.inf &lt;dbl&gt; |\n",
       "|---|---|---|\n",
       "| PPERSAUT | PPERSAUT | 13.8894581 |\n",
       "| MKOOPKLA | MKOOPKLA |  9.9278724 |\n",
       "| MOPLHOOG | MOPLHOOG |  7.6486640 |\n",
       "| MBERMIDD | MBERMIDD |  5.7522747 |\n",
       "| PBRAND | PBRAND   |  5.6868878 |\n",
       "| ABRAND | ABRAND   |  4.7798948 |\n",
       "| MGODGE | MGODGE   |  4.5660974 |\n",
       "| MINK3045 | MINK3045 |  4.0037420 |\n",
       "| PWAPART | PWAPART  |  3.2230558 |\n",
       "| MOSTYPE | MOSTYPE  |  2.9287735 |\n",
       "| MAUT2 | MAUT2    |  2.7696251 |\n",
       "| MSKA | MSKA     |  2.2568037 |\n",
       "| MGODPR | MGODPR   |  2.1341475 |\n",
       "| MAUT1 | MAUT1    |  1.7947875 |\n",
       "| MSKC | MSKC     |  1.7638935 |\n",
       "| PBYSTAND | PBYSTAND |  1.6876553 |\n",
       "| MBERARBG | MBERARBG |  1.6551313 |\n",
       "| MGODOV | MGODOV   |  1.5347927 |\n",
       "| MRELOV | MRELOV   |  1.5275225 |\n",
       "| MINKGEM | MINKGEM  |  1.4870418 |\n",
       "| MSKB1 | MSKB1    |  1.4868670 |\n",
       "| MFWEKIND | MFWEKIND |  1.3190079 |\n",
       "| MBERHOOG | MBERHOOG |  1.2188664 |\n",
       "| MGODRK | MGODRK   |  1.1645459 |\n",
       "| MRELGE | MRELGE   |  1.1494988 |\n",
       "| MFGEKIND | MFGEKIND |  1.1082166 |\n",
       "| MINK7512 | MINK7512 |  0.8631456 |\n",
       "| MHHUUR | MHHUUR   |  0.8277262 |\n",
       "| MOPLMIDD | MOPLMIDD |  0.8117272 |\n",
       "| MBERBOER | MBERBOER |  0.7694973 |\n",
       "| ... | ... | ... |\n",
       "| PAANHANG | PAANHANG | 0 |\n",
       "| PTRACTOR | PTRACTOR | 0 |\n",
       "| PWERKT | PWERKT   | 0 |\n",
       "| PBROM | PBROM    | 0 |\n",
       "| PPERSONG | PPERSONG | 0 |\n",
       "| PGEZONG | PGEZONG  | 0 |\n",
       "| PWAOREG | PWAOREG  | 0 |\n",
       "| PZEILPL | PZEILPL  | 0 |\n",
       "| PPLEZIER | PPLEZIER | 0 |\n",
       "| PFIETS | PFIETS   | 0 |\n",
       "| PINBOED | PINBOED  | 0 |\n",
       "| AWAPART | AWAPART  | 0 |\n",
       "| AWABEDR | AWABEDR  | 0 |\n",
       "| AWALAND | AWALAND  | 0 |\n",
       "| ABESAUT | ABESAUT  | 0 |\n",
       "| AMOTSCO | AMOTSCO  | 0 |\n",
       "| AVRAAUT | AVRAAUT  | 0 |\n",
       "| AAANHANG | AAANHANG | 0 |\n",
       "| ATRACTOR | ATRACTOR | 0 |\n",
       "| AWERKT | AWERKT   | 0 |\n",
       "| ABROM | ABROM    | 0 |\n",
       "| ALEVEN | ALEVEN   | 0 |\n",
       "| APERSONG | APERSONG | 0 |\n",
       "| AGEZONG | AGEZONG  | 0 |\n",
       "| AWAOREG | AWAOREG  | 0 |\n",
       "| AZEILPL | AZEILPL  | 0 |\n",
       "| APLEZIER | APLEZIER | 0 |\n",
       "| AFIETS | AFIETS   | 0 |\n",
       "| AINBOED | AINBOED  | 0 |\n",
       "| ABYSTAND | ABYSTAND | 0 |\n",
       "\n"
      ],
      "text/plain": [
       "         var      rel.inf   \n",
       "PPERSAUT PPERSAUT 13.8894581\n",
       "MKOOPKLA MKOOPKLA  9.9278724\n",
       "MOPLHOOG MOPLHOOG  7.6486640\n",
       "MBERMIDD MBERMIDD  5.7522747\n",
       "PBRAND   PBRAND    5.6868878\n",
       "ABRAND   ABRAND    4.7798948\n",
       "MGODGE   MGODGE    4.5660974\n",
       "MINK3045 MINK3045  4.0037420\n",
       "PWAPART  PWAPART   3.2230558\n",
       "MOSTYPE  MOSTYPE   2.9287735\n",
       "MAUT2    MAUT2     2.7696251\n",
       "MSKA     MSKA      2.2568037\n",
       "MGODPR   MGODPR    2.1341475\n",
       "MAUT1    MAUT1     1.7947875\n",
       "MSKC     MSKC      1.7638935\n",
       "PBYSTAND PBYSTAND  1.6876553\n",
       "MBERARBG MBERARBG  1.6551313\n",
       "MGODOV   MGODOV    1.5347927\n",
       "MRELOV   MRELOV    1.5275225\n",
       "MINKGEM  MINKGEM   1.4870418\n",
       "MSKB1    MSKB1     1.4868670\n",
       "MFWEKIND MFWEKIND  1.3190079\n",
       "MBERHOOG MBERHOOG  1.2188664\n",
       "MGODRK   MGODRK    1.1645459\n",
       "MRELGE   MRELGE    1.1494988\n",
       "MFGEKIND MFGEKIND  1.1082166\n",
       "MINK7512 MINK7512  0.8631456\n",
       "MHHUUR   MHHUUR    0.8277262\n",
       "MOPLMIDD MOPLMIDD  0.8117272\n",
       "MBERBOER MBERBOER  0.7694973\n",
       "...      ...      ...       \n",
       "PAANHANG PAANHANG 0         \n",
       "PTRACTOR PTRACTOR 0         \n",
       "PWERKT   PWERKT   0         \n",
       "PBROM    PBROM    0         \n",
       "PPERSONG PPERSONG 0         \n",
       "PGEZONG  PGEZONG  0         \n",
       "PWAOREG  PWAOREG  0         \n",
       "PZEILPL  PZEILPL  0         \n",
       "PPLEZIER PPLEZIER 0         \n",
       "PFIETS   PFIETS   0         \n",
       "PINBOED  PINBOED  0         \n",
       "AWAPART  AWAPART  0         \n",
       "AWABEDR  AWABEDR  0         \n",
       "AWALAND  AWALAND  0         \n",
       "ABESAUT  ABESAUT  0         \n",
       "AMOTSCO  AMOTSCO  0         \n",
       "AVRAAUT  AVRAAUT  0         \n",
       "AAANHANG AAANHANG 0         \n",
       "ATRACTOR ATRACTOR 0         \n",
       "AWERKT   AWERKT   0         \n",
       "ABROM    ABROM    0         \n",
       "ALEVEN   ALEVEN   0         \n",
       "APERSONG APERSONG 0         \n",
       "AGEZONG  AGEZONG  0         \n",
       "AWAOREG  AWAOREG  0         \n",
       "AZEILPL  AZEILPL  0         \n",
       "APLEZIER APLEZIER 0         \n",
       "AFIETS   AFIETS   0         \n",
       "AINBOED  AINBOED  0         \n",
       "ABYSTAND ABYSTAND 0         "
      ]
     },
     "metadata": {},
     "output_type": "display_data"
    },
    {
     "data": {
      "image/png": "[encoded data removed]",
      "text/plain": [
       "plot without title"
      ]
     },
     "metadata": {
      "image/png": {
       "height": 420,
       "width": 420
      },
      "text/plain": {
       "height": 420,
       "width": 420
      }
     },
     "output_type": "display_data"
    }
   ],
   "source": [
    "set.seed(1998)\n",
    "boost.caravan = gbm(Purchase ~ ., data = train, distribution = \"gaussian\", n.trees = 1000, shrinkage = 0.01)\n",
    "summary(boost.caravan)"
   ]
  },
  {
   "cell_type": "markdown",
   "metadata": {},
   "source": [
    "**Comment:**\n",
    "PPERSAUT is the most important predictor, followed by MKOOPKLA, MOPLHOOG, ect."
   ]
  },
  {
   "cell_type": "markdown",
   "metadata": {},
   "source": [
    "## Task (c)\n",
    "Use the boosting model to predict the response on the test data. Predict that a person will make a purchase if the estimated probability of purchase is greater than 20%. Form a confusion matrix. What fraction of the people predicted to make a purchase do in fact make one ? How does this compare with the results obtained from applying KNN or logistic regression to this data set?"
   ]
  },
  {
   "cell_type": "code",
   "execution_count": 38,
   "metadata": {},
   "outputs": [
    {
     "data": {
      "text/plain": [
       "   pred.test\n",
       "       0    1\n",
       "  0 4493   40\n",
       "  1  279   10"
      ]
     },
     "metadata": {},
     "output_type": "display_data"
    }
   ],
   "source": [
    "pred.test = ifelse(predict(boost.caravan, test, n.trees = 1000, type = \"response\") > 0.2, 1, 0)\n",
    "confusion_matrix = table(test$Purchase, pred.test)\n",
    "confusion_matrix"
   ]
  },
  {
   "cell_type": "code",
   "execution_count": 39,
   "metadata": {},
   "outputs": [
    {
     "name": "stdout",
     "output_type": "stream",
     "text": [
      "[1] 0.2\n"
     ]
    }
   ],
   "source": [
    "TruePred_Yes = confusion_matrix[2, 2]\n",
    "FalsePred_Yes = confusion_matrix[1, 2]\n",
    "print(TruePred_Yes/(TruePred_Yes+FalsePred_Yes))"
   ]
  },
  {
   "cell_type": "markdown",
   "metadata": {},
   "source": [
    "**Comment:**\n",
    "For boosting, the fraction of people predicted to make a purchase that in fact make one is 0.2."
   ]
  },
  {
   "cell_type": "code",
   "execution_count": 40,
   "metadata": {},
   "outputs": [
    {
     "name": "stderr",
     "output_type": "stream",
     "text": [
      "Warning message:\n",
      "\"glm.fit: fitted probabilities numerically 0 or 1 occurred\"\n",
      "Warning message in predict.lm(object, newdata, se.fit, scale = 1, type = if (type == :\n",
      "\"prediction from a rank-deficient fit may be misleading\"\n"
     ]
    },
    {
     "data": {
      "text/plain": [
       "   pred.test\n",
       "       0    1\n",
       "  0 4183  350\n",
       "  1  231   58"
      ]
     },
     "metadata": {},
     "output_type": "display_data"
    }
   ],
   "source": [
    "logit.caravan = glm(Purchase ~ ., data = train, family = \"binomial\")\n",
    "pred.test = ifelse(predict(logit.caravan, test, type = \"response\") > 0.2, 1, 0)\n",
    "confusion_matrix = table(test$Purchase, pred.test)\n",
    "confusion_matrix"
   ]
  },
  {
   "cell_type": "code",
   "execution_count": 41,
   "metadata": {},
   "outputs": [
    {
     "name": "stdout",
     "output_type": "stream",
     "text": [
      "[1] 0.1421569\n"
     ]
    }
   ],
   "source": [
    "TruePred_Yes = confusion_matrix[2, 2]\n",
    "FalsePred_Yes = confusion_matrix[1, 2]\n",
    "print(TruePred_Yes/(TruePred_Yes+FalsePred_Yes))"
   ]
  },
  {
   "cell_type": "markdown",
   "metadata": {},
   "source": [
    "**Comment:**\n",
    "For logistic regression, the fraction of people predicted to make a purchase that in fact make one is 0.142."
   ]
  }
 ],
 "metadata": {
  "kernelspec": {
   "display_name": "R",
   "language": "R",
   "name": "ir"
  },
  "language_info": {
   "codemirror_mode": "r",
   "file_extension": ".r",
   "mimetype": "text/x-r-source",
   "name": "R",
   "pygments_lexer": "r",
   "version": "3.6.3"
  }
 },
 "nbformat": 4,
 "nbformat_minor": 4
}
